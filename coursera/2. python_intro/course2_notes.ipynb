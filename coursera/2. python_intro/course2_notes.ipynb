{
 "cells": [
  {
   "cell_type": "markdown",
   "id": "a6373fcd7139cf9d",
   "metadata": {
    "collapsed": false
   },
   "source": [
    "Get some quick ad hoc queries up and running on Health Cloud."
   ]
  },
  {
   "cell_type": "markdown",
   "id": "d624121c02410479",
   "metadata": {
    "collapsed": false
   },
   "source": [
    "# --imports "
   ]
  },
  {
   "cell_type": "code",
   "execution_count": null,
   "id": "initial_id",
   "metadata": {
    "collapsed": true
   },
   "outputs": [],
   "source": [
    "import pyspark.sql.dataframe\n",
    "import plotly.express as px\n",
    "import dash_bootstrap_components as dbc\n",
    "import pandas\n",
    "import plotly.graph_objects as go\n",
    "import plotly.figure_factory as ff\n",
    "import matplotlib.pyplot as plt\n",
    "from dash import Dash, html, dash_table, dcc, Output, Input\n",
    "from dash.exceptions import PreventUpdate\n",
    "from pyspark.sql import SparkSession\n",
    "from IPython.display import Markdown\n",
    "\n",
    "pandas.set_option(\"display.max_colwidth\", None)\n",
    "pandas.set_option(\"display.max_columns\", None)\n",
    "# pandas.set_option(\"display.max_rows\", None)\n",
    "\n",
    "def to_panda(spark_df: pyspark.sql.dataframe.DataFrame) -> pandas.DataFrame:\n",
    "    \"\"\"\n",
    "    Convert a Spark DataFrame to a Pandas DataFrame.\n",
    "    \n",
    "    :param spark_df: the Spark DataFrame to convert \n",
    "    :return: the pandas DataFrame\n",
    "    \"\"\"\n",
    "    return pandas.DataFrame([row.asDict() for row in spark_df.collect()])"
   ]
  },
  {
   "cell_type": "markdown",
   "id": "8beac394ca090f30",
   "metadata": {
    "collapsed": false
   },
   "source": [
    "Example of how to get variables into markdown"
   ]
  },
  {
   "cell_type": "code",
   "execution_count": null,
   "id": "e53c2776c7dda95e",
   "metadata": {
    "collapsed": false
   },
   "outputs": [],
   "source": [
    "# Example of how to get variables into markdown\n",
    "\n",
    "var1 = 10\n",
    "var2 = 20\n",
    "info = 'Dynamically generated markdown'\n",
    "md_text = f\"\"\"\n",
    "# {info}\n",
    "## Results\n",
    "\n",
    "- The value of `var1` is: {var1}\n",
    "- The value of `var2` is: {var2}\n",
    "\"\"\"\n",
    "\n",
    "Markdown(md_text)"
   ]
  },
  {
   "cell_type": "code",
   "execution_count": null,
   "id": "f2b1e3c29473148a",
   "metadata": {
    "collapsed": false
   },
   "outputs": [],
   "source": [
    "# name of the spark app \n",
    "THE_SPARK_APP_NAME = \"____????????????????????????????____\"\n",
    "\n",
    "spark = (\n",
    "    SparkSession\n",
    "    .builder\n",
    "    .config(\"spark.sql.adaptive.enabled\", \"true\")\n",
    "    .config(\"spark.jars\", \"hds://code/utah/utah.jar\")\n",
    "    .config(\"spark.sql.session.timeZone\", \"UTC\")\n",
    "    .config(\"spark.driver.memory\", \"128g\")\n",
    "    .config(\"spark.executor.memory\", \"128g\")\n",
    "    .config(\"spark.driver.maxResultSize\", \"64g\")\n",
    "    .config(\"spark.executor.instances\", 10)\n",
    "    .config(\"spark.executor.cores\", 8)\n",
    "    .config(\"spark.sql.execution.arrow.pyspark.enabled\", \"true\")\n",
    "    .config(\"spark.sql.broadcastTimeout\", 12000)\n",
    "    .appName(THE_SPARK_APP_NAME)\n",
    "    .getOrCreate()\n",
    ")\n",
    "\n",
    "spark"
   ]
  },
  {
   "cell_type": "markdown",
   "id": "97bc865e90b427de",
   "metadata": {
    "collapsed": false
   },
   "source": [
    "# --queries "
   ]
  },
  {
   "cell_type": "code",
   "execution_count": null,
   "id": "d94e587e356fea51",
   "metadata": {
    "collapsed": false
   },
   "outputs": [],
   "source": [
    "%%time \n",
    "\n"
   ]
  },
  {
   "cell_type": "code",
   "execution_count": null,
   "id": "593a337db3109deb",
   "metadata": {
    "collapsed": false
   },
   "outputs": [],
   "source": [
    "%%time \n",
    "\n"
   ]
  },
  {
   "cell_type": "code",
   "execution_count": null,
   "id": "7267900eb4be6824",
   "metadata": {
    "collapsed": false
   },
   "outputs": [],
   "source": [
    "%%time\n"
   ]
  },
  {
   "cell_type": "code",
   "execution_count": null,
   "id": "6950eb71f8bc7f2",
   "metadata": {
    "collapsed": false
   },
   "outputs": [],
   "source": [
    "%%time\n"
   ]
  },
  {
   "cell_type": "code",
   "execution_count": null,
   "id": "407658ae75e09697",
   "metadata": {
    "collapsed": false
   },
   "outputs": [],
   "source": [
    "%%time\n"
   ]
  },
  {
   "cell_type": "code",
   "execution_count": null,
   "id": "aade01b0e508fa73",
   "metadata": {
    "collapsed": false
   },
   "outputs": [],
   "source": [
    "%%time\n"
   ]
  },
  {
   "cell_type": "code",
   "execution_count": null,
   "id": "f3ddc3d55e3a23d9",
   "metadata": {
    "collapsed": false
   },
   "outputs": [],
   "source": [
    "%%time\n"
   ]
  }
 ],
 "metadata": {
  "kernelspec": {
   "display_name": "Python 3",
   "language": "python",
   "name": "python3"
  },
  "language_info": {
   "codemirror_mode": {
    "name": "ipython",
    "version": 2
   },
   "file_extension": ".py",
   "mimetype": "text/x-python",
   "name": "python",
   "nbconvert_exporter": "python",
   "pygments_lexer": "ipython2",
   "version": "2.7.6"
  }
 },
 "nbformat": 4,
 "nbformat_minor": 5
}
