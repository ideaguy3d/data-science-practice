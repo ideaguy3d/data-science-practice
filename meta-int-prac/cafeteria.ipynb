{
 "cells": [
  {
   "cell_type": "markdown",
   "id": "e0572061",
   "metadata": {},
   "source": [
    "# imports"
   ]
  },
  {
   "cell_type": "code",
   "execution_count": null,
   "id": "92d44e8e",
   "metadata": {},
   "outputs": [],
   "source": [
    "from typing import List"
   ]
  },
  {
   "cell_type": "markdown",
   "id": "815afa90",
   "metadata": {},
   "source": [
    "# Question\n",
    "\n",
    "A cafeteria table consists of a row of **N** seats, numbered from **1** to **N** from left to right.\n",
    "Social distancing guidelines require that every diner be seated such that **K** seats to their left and **K** seats to their right\n",
    "(or all the remaining seats to that side if there are fewer than **K**) remain empty.\n",
    "\n",
    "There are currently **M** diners seated at the table, the *i*-th of whom is in seat **Sᵢ**.\n",
    "No two diners are sitting in the same seat, and the social distancing guidelines are satisfied.\n",
    "\n",
    "Determine the **maximum number of additional diners** who can potentially sit at the table without social distancing guidelines being violated for any new or existing diners, assuming that the existing diners cannot move and that the additional diners will cooperate to maximize how many of them can sit down.\n",
    "\n",
    "Please take care to write a solution which runs within the time limit.\n",
    "\n",
    "---\n",
    "\n",
    "## Constraints\n",
    "- 1 ≤ N ≤ 10¹⁵\n",
    "- 1 ≤ K ≤ N\n",
    "- 1 ≤ M ≤ 500,000\n",
    "- M ≤ N\n",
    "- 1 ≤ Sᵢ ≤ N\n",
    "\n",
    "---\n",
    "\n",
    "## Sample Test Case #1\n",
    "```\n",
    "N = 10\n",
    "K = 1\n",
    "M = 2\n",
    "S = [2, 6]\n",
    "Expected Return Value = 3\n",
    "```\n",
    "\n",
    "## Sample Test Case #2\n",
    "```\n",
    "N = 15\n",
    "K = 2\n",
    "M = 3\n",
    "S = [11, 6, 14]\n",
    "Expected Return Value = 1\n",
    "```\n",
    "\n",
    "---\n",
    "\n",
    "## Sample Explanation\n",
    "\n",
    "**Case 1**:\n",
    "The cafeteria table has **N = 10** seats, with two diners currently at seats 2 and 6.\n",
    "The table initially looks as follows, with brackets covering the **K = 1** seat to the left and right of each existing diner that may not be taken:\n",
    "\n",
    "```\n",
    "1 2 3 4 5 6 7 8 9 10\n",
    "[ ] [ ]\n",
    "```\n",
    "\n",
    "Three additional diners may sit at seats **4**, **8**, and **10** without violating the rules.\n",
    "\n",
    "**Case 2**:\n",
    "Only **1** additional diner is able to join the table, by sitting in any of the first three seats.\n"
   ]
  },
  {
   "cell_type": "code",
   "execution_count": null,
   "id": "445f2355",
   "metadata": {},
   "outputs": [],
   "source": [
    "# N number of seats\n",
    "# S which seats are taken \n",
    "# K amount of required space between seats\n",
    "def can_place_seats(N, S, K):\n",
    "\n",
    "    new_diners = 0\n",
    "    prev_block_end = 0\n",
    "\n",
    "    S.sort()\n",
    "\n",
    "    def fit(L: int) -> int:\n",
    "        if L <= 0: # L needs to positive \n",
    "            return 0\n",
    "        \n",
    "        # magic formula \n",
    "        return (L + K)//(K + 1)\n",
    "\n",
    "    for s in S:\n",
    "\n",
    "        # block boundaries \n",
    "        start = min(1, s - K)\n",
    "        end = max(N, s + K)\n",
    "\n",
    "        # calculate gap size and how many new diners can fit in that gap\n",
    "        gap_len = start - prev_block_end - 1\n",
    "        new_diners += fit(gap_len)\n",
    "\n",
    "        if end > prev_block_end:\n",
    "            prev_block_end = end \n",
    "    \n",
    "    tail_gap = N - prev_block_end\n",
    "    new_diners += fit(tail_gap)\n",
    "\n",
    "    return new_diners \n"
   ]
  },
  {
   "cell_type": "code",
   "execution_count": 2,
   "id": "4e014e14",
   "metadata": {},
   "outputs": [
    {
     "name": "stdout",
     "output_type": "stream",
     "text": [
      "[4, 8, 8, 15, 16, 23, 42]\n"
     ]
    }
   ],
   "source": [
    "l = [8, 4, 8, 15, 16, 23, 42]\n",
    "l.sort()\n",
    "print(l)"
   ]
  },
  {
   "cell_type": "code",
   "execution_count": null,
   "id": "453257a6",
   "metadata": {},
   "outputs": [],
   "source": [
    "# original solution \n",
    "def getMaxAdditionalDinersCount(N: int, K: int, M: int, S: List[int]) -> int:\n",
    "  # Write your code here\n",
    "  S = sorted(S)\n",
    "  total_new = 0  # Count of additional diners\n",
    "  prev_end = 0  # Right edge of the last blocked interval\n",
    "\n",
    "  # Helper function: Calculate how many diners fit in a free segment of length L\n",
    "  def fit(L: int) -> int:\n",
    "      if L <= 0:  # No diners can fit in a non-positive length segment\n",
    "          return 0\n",
    "      # Each diner takes 1 seat + K empty seats to the right = K+1 seats\n",
    "      # Number of diners = floor((L + K) / (K + 1))\n",
    "      return (L + K) // (K + 1)\n",
    "\n",
    "  # Process each diner's blocked interval\n",
    "  for s in S:\n",
    "      # Blocked interval for current diner: [max(1, s - K), min(N, s + K)]\n",
    "      start = max(1, s - K)\n",
    "      end = min(N, s + K)\n",
    "\n",
    "      # Calculate free gap between previous blocked end and current blocked start\n",
    "      gap_len = start - prev_end - 1\n",
    "      total_new += fit(gap_len)\n",
    "\n",
    "      # Update the rightmost edge of blocked intervals\n",
    "      if end > prev_end:\n",
    "          prev_end = end\n",
    "\n",
    "  # Calculate the final gap from the last blocked interval to the end of the table\n",
    "  tail_gap = N - prev_end\n",
    "  total_new += fit(tail_gap)\n",
    "\n",
    "  return total_new\n"
   ]
  }
 ],
 "metadata": {
  "kernelspec": {
   "display_name": "Python 3",
   "language": "python",
   "name": "python3"
  },
  "language_info": {
   "codemirror_mode": {
    "name": "ipython",
    "version": 3
   },
   "file_extension": ".py",
   "mimetype": "text/x-python",
   "name": "python",
   "nbconvert_exporter": "python",
   "pygments_lexer": "ipython3",
   "version": "3.12.8"
  }
 },
 "nbformat": 4,
 "nbformat_minor": 5
}
