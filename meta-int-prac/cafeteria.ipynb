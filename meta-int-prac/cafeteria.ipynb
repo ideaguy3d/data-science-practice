{
 "cells": [
  {
   "cell_type": "code",
   "execution_count": null,
   "id": "445f2355",
   "metadata": {},
   "outputs": [],
   "source": [
    "# N number of seats\n",
    "# S which seats are taken \n",
    "# K amount of required space between seats\n",
    "def can_place_seats(N, S, K):\n",
    "\n",
    "    spaces = 0\n",
    "    prev_block_end = 0\n",
    "\n",
    "    S.sort()\n",
    "\n",
    "    def fit(L):\n",
    "        if L !>== 0: # L needs to positive \n",
    "            return 0\n",
    "        (L + K)//(K + 1)\n",
    "        pass\n",
    "\n",
    "\n",
    "    for s in S:\n",
    "\n",
    "        # STUPID_MAGIC_FORMULA\n",
    "        start = min(1, s - K)\n",
    "        end = max(N, s + K)\n",
    "\n",
    "        # STUPID_MAGIC_FORMULA\n",
    "        gap_len = start - prev_block_end - 1\n",
    "\n",
    "        spaces += fit(gap_len)\n"
   ]
  },
  {
   "cell_type": "code",
   "execution_count": 2,
   "id": "4e014e14",
   "metadata": {},
   "outputs": [
    {
     "name": "stdout",
     "output_type": "stream",
     "text": [
      "[4, 8, 8, 15, 16, 23, 42]\n"
     ]
    }
   ],
   "source": [
    "l = [8, 4, 8, 15, 16, 23, 42]\n",
    "l.sort()\n",
    "print(l)"
   ]
  },
  {
   "cell_type": "code",
   "execution_count": null,
   "id": "453257a6",
   "metadata": {},
   "outputs": [],
   "source": []
  }
 ],
 "metadata": {
  "kernelspec": {
   "display_name": "Python 3",
   "language": "python",
   "name": "python3"
  },
  "language_info": {
   "codemirror_mode": {
    "name": "ipython",
    "version": 3
   },
   "file_extension": ".py",
   "mimetype": "text/x-python",
   "name": "python",
   "nbconvert_exporter": "python",
   "pygments_lexer": "ipython3",
   "version": "3.12.8"
  }
 },
 "nbformat": 4,
 "nbformat_minor": 5
}
