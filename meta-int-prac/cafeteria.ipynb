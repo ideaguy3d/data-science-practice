{
 "cells": [
  {
   "cell_type": "markdown",
   "id": "e0572061",
   "metadata": {},
   "source": [
    "# imports"
   ]
  },
  {
   "cell_type": "code",
   "execution_count": null,
   "id": "92d44e8e",
   "metadata": {},
   "outputs": [],
   "source": [
    "from typing import List"
   ]
  },
  {
   "cell_type": "code",
   "execution_count": null,
   "id": "445f2355",
   "metadata": {},
   "outputs": [],
   "source": [
    "# N number of seats\n",
    "# S which seats are taken \n",
    "# K amount of required space between seats\n",
    "def can_place_seats(N, S, K):\n",
    "\n",
    "    new_diners = 0\n",
    "    prev_block_end = 0\n",
    "\n",
    "    S.sort()\n",
    "\n",
    "    def fit(L: int) -> int:\n",
    "        if L <= 0: # L needs to positive \n",
    "            return 0\n",
    "        \n",
    "        # magic formula \n",
    "        return (L + K)//(K + 1)\n",
    "\n",
    "    for s in S:\n",
    "\n",
    "        # block boundaries \n",
    "        start = min(1, s - K)\n",
    "        end = max(N, s + K)\n",
    "\n",
    "        # calculate gap size and how many new diners can fit in that gap\n",
    "        gap_len = start - prev_block_end - 1\n",
    "        new_diners += fit(gap_len)\n",
    "\n",
    "        if end > prev_block_end:\n",
    "            prev_block_end = end \n",
    "    \n",
    "    tail_gap = N - prev_block_end\n",
    "    new_diners += fit(tail_gap)\n",
    "\n",
    "    return new_diners \n"
   ]
  },
  {
   "cell_type": "code",
   "execution_count": 2,
   "id": "4e014e14",
   "metadata": {},
   "outputs": [
    {
     "name": "stdout",
     "output_type": "stream",
     "text": [
      "[4, 8, 8, 15, 16, 23, 42]\n"
     ]
    }
   ],
   "source": [
    "l = [8, 4, 8, 15, 16, 23, 42]\n",
    "l.sort()\n",
    "print(l)"
   ]
  },
  {
   "cell_type": "code",
   "execution_count": null,
   "id": "453257a6",
   "metadata": {},
   "outputs": [],
   "source": [
    "# original solution \n",
    "def getMaxAdditionalDinersCount(N: int, K: int, M: int, S: List[int]) -> int:\n",
    "  # Write your code here\n",
    "  S = sorted(S)\n",
    "  total_new = 0  # Count of additional diners\n",
    "  prev_end = 0  # Right edge of the last blocked interval\n",
    "\n",
    "  # Helper function: Calculate how many diners fit in a free segment of length L\n",
    "  def fit(L: int) -> int:\n",
    "      if L <= 0:  # No diners can fit in a non-positive length segment\n",
    "          return 0\n",
    "      # Each diner takes 1 seat + K empty seats to the right = K+1 seats\n",
    "      # Number of diners = floor((L + K) / (K + 1))\n",
    "      return (L + K) // (K + 1)\n",
    "\n",
    "  # Process each diner's blocked interval\n",
    "  for s in S:\n",
    "      # Blocked interval for current diner: [max(1, s - K), min(N, s + K)]\n",
    "      start = max(1, s - K)\n",
    "      end = min(N, s + K)\n",
    "\n",
    "      # Calculate free gap between previous blocked end and current blocked start\n",
    "      gap_len = start - prev_end - 1\n",
    "      total_new += fit(gap_len)\n",
    "\n",
    "      # Update the rightmost edge of blocked intervals\n",
    "      if end > prev_end:\n",
    "          prev_end = end\n",
    "\n",
    "  # Calculate the final gap from the last blocked interval to the end of the table\n",
    "  tail_gap = N - prev_end\n",
    "  total_new += fit(tail_gap)\n",
    "\n",
    "  return total_new\n"
   ]
  }
 ],
 "metadata": {
  "kernelspec": {
   "display_name": "Python 3",
   "language": "python",
   "name": "python3"
  },
  "language_info": {
   "codemirror_mode": {
    "name": "ipython",
    "version": 3
   },
   "file_extension": ".py",
   "mimetype": "text/x-python",
   "name": "python",
   "nbconvert_exporter": "python",
   "pygments_lexer": "ipython3",
   "version": "3.12.8"
  }
 },
 "nbformat": 4,
 "nbformat_minor": 5
}
