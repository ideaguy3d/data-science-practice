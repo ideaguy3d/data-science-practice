{
 "cells": [
  {
   "cell_type": "markdown",
   "id": "68802e34",
   "metadata": {},
   "source": [
    "# imports"
   ]
  },
  {
   "cell_type": "code",
   "execution_count": 1,
   "id": "351d1207",
   "metadata": {},
   "outputs": [
    {
     "name": "stderr",
     "output_type": "stream",
     "text": [
      "/Library/Frameworks/Python.framework/Versions/3.12/lib/python3.12/site-packages/tqdm/auto.py:21: TqdmWarning: IProgress not found. Please update jupyter and ipywidgets. See https://ipywidgets.readthedocs.io/en/stable/user_install.html\n",
      "  from .autonotebook import tqdm as notebook_tqdm\n"
     ]
    }
   ],
   "source": [
    "from pathlib import Path\n",
    "from textwrap import fill\n",
    "\n",
    "import numpy as np\n",
    "import pandas as pd\n",
    "import requests\n",
    "import seaborn as sns\n",
    "import tiktoken\n",
    "from IPython.display import Markdown\n",
    "from sklearn.model_selection import train_test_split\n",
    "from tqdm.auto import tqdm"
   ]
  },
  {
   "cell_type": "code",
   "execution_count": 3,
   "id": "fbcc8b1b",
   "metadata": {},
   "outputs": [],
   "source": [
    "LLM_SERVER = \"http://localhost:11434\"\n",
    "MODEL = \"gemma3:1b\"\n",
    "DATA_DIR = \"data\"\n"
   ]
  },
  {
   "cell_type": "code",
   "execution_count": 4,
   "id": "4953bf72",
   "metadata": {},
   "outputs": [
    {
     "data": {
      "text/plain": [
       "'data'"
      ]
     },
     "execution_count": 4,
     "metadata": {},
     "output_type": "execute_result"
    }
   ],
   "source": [
    "DATA_DIR"
   ]
  },
  {
   "cell_type": "code",
   "execution_count": 6,
   "id": "f58fa240",
   "metadata": {},
   "outputs": [
    {
     "data": {
      "text/html": [
       "<div>\n",
       "<style scoped>\n",
       "    .dataframe tbody tr th:only-of-type {\n",
       "        vertical-align: middle;\n",
       "    }\n",
       "\n",
       "    .dataframe tbody tr th {\n",
       "        vertical-align: top;\n",
       "    }\n",
       "\n",
       "    .dataframe thead th {\n",
       "        text-align: right;\n",
       "    }\n",
       "</style>\n",
       "<table border=\"1\" class=\"dataframe\">\n",
       "  <thead>\n",
       "    <tr style=\"text-align: right;\">\n",
       "      <th></th>\n",
       "      <th>text</th>\n",
       "      <th>summary</th>\n",
       "    </tr>\n",
       "    <tr>\n",
       "      <th>paper_id</th>\n",
       "      <th></th>\n",
       "      <th></th>\n",
       "    </tr>\n",
       "  </thead>\n",
       "  <tbody>\n",
       "    <tr>\n",
       "      <th>0</th>\n",
       "      <td>## FROM SOVEREIGNTY TO EXTRATERRITORIAL CONSCI...</td>\n",
       "      <td>In this article, Victor Fan argues that analys...</td>\n",
       "    </tr>\n",
       "    <tr>\n",
       "      <th>1</th>\n",
       "      <td>## 1. Introduction\\n\\n\\nAn Electronic Health R...</td>\n",
       "      <td>Problem definition: Physicians spend more than...</td>\n",
       "    </tr>\n",
       "    <tr>\n",
       "      <th>2</th>\n",
       "      <td>## Introduction\\n\\n\\nTranslation  plays  an  i...</td>\n",
       "      <td>Literary translation is one of the most challe...</td>\n",
       "    </tr>\n",
       "    <tr>\n",
       "      <th>3</th>\n",
       "      <td>## 1 Problem Setup\\n\\n\\nRecent political scien...</td>\n",
       "      <td>There is a long-running debate on evaluating f...</td>\n",
       "    </tr>\n",
       "    <tr>\n",
       "      <th>4</th>\n",
       "      <td>## INTRODUCTION\\n\\n\\nThis  article  investigat...</td>\n",
       "      <td>Recently, ‘bimajyo’ (美魔女) came into focus in J...</td>\n",
       "    </tr>\n",
       "  </tbody>\n",
       "</table>\n",
       "</div>"
      ],
      "text/plain": [
       "                                                       text  \\\n",
       "paper_id                                                      \n",
       "0         ## FROM SOVEREIGNTY TO EXTRATERRITORIAL CONSCI...   \n",
       "1         ## 1. Introduction\\n\\n\\nAn Electronic Health R...   \n",
       "2         ## Introduction\\n\\n\\nTranslation  plays  an  i...   \n",
       "3         ## 1 Problem Setup\\n\\n\\nRecent political scien...   \n",
       "4         ## INTRODUCTION\\n\\n\\nThis  article  investigat...   \n",
       "\n",
       "                                                    summary  \n",
       "paper_id                                                     \n",
       "0         In this article, Victor Fan argues that analys...  \n",
       "1         Problem definition: Physicians spend more than...  \n",
       "2         Literary translation is one of the most challe...  \n",
       "3         There is a long-running debate on evaluating f...  \n",
       "4         Recently, ‘bimajyo’ (美魔女) came into focus in J...  "
      ]
     },
     "execution_count": 6,
     "metadata": {},
     "output_type": "execute_result"
    }
   ],
   "source": [
    "df = pd.read_csv(DATA_DIR + \"/train.csv\", index_col=0)\n",
    "df.head()"
   ]
  },
  {
   "cell_type": "code",
   "execution_count": 7,
   "id": "5c511744",
   "metadata": {},
   "outputs": [
    {
     "name": "stdout",
     "output_type": "stream",
     "text": [
      "Document length: 33,416 characters\n",
      "Document:\n",
      "## FROM SOVEREIGNTY TO EXTRATERRITORIAL CONSCIOUSNESS\n",
      "\n",
      "\n",
      "Since 1997,\n",
      "the concept of extraterritoriality has been configured in the\n",
      "political tension between Hong Kong and Beijing. From the perspective\n",
      "of the Central Government, it is fundamental for the people of China\n",
      "to shijian zhuquan instantiate its sovereignty over Hong Kong. But\n",
      "while most Hong / Kong residents insist on interpreting this concept\n",
      "in terms of the Euro-American notion of selfdetermination  (zizhu /\n",
      "making decisions  for  oneself),  the  Beijing  government  believes\n",
      "that  the Hong Kong legislature must make decisions in conformation to\n",
      "the larger will of the people, which the Party represents, a concept\n",
      "taken from the writings of Lenin and Stalin (Gao 2010: 26-30). This\n",
      "tension is crystalised in the long debate about Article 23 of the Hong\n",
      "Kong Basic Law, which requires  the  SAR  to  'enact  laws  on  its\n",
      "own  to  prohibit  any  act  of  treason,  secession,  sedition,\n",
      "subversion  against  the  Central  People's  G\n"
     ]
    }
   ],
   "source": [
    "print(f\"Document length: {len(df.loc[0, 'text']):,} characters\")\n",
    "print(\"Document:\")\n",
    "print(fill(df.loc[0, \"text\"], replace_whitespace=False)[:1000])"
   ]
  },
  {
   "cell_type": "code",
   "execution_count": 8,
   "id": "6a96267f",
   "metadata": {},
   "outputs": [
    {
     "name": "stdout",
     "output_type": "stream",
     "text": [
      "In this article, Victor Fan argues that analysing contemporary Hong\n",
      "Kong cinema requires active rewriting of established postcolonial\n",
      "theories by taking into account the specific mode of colonisation of\n",
      "Hong Kong: extraterritoriality. This concept has been responsible for\n",
      "the construction of the cultural plurality, linguistic ambiguity, and\n",
      "political liminality of Hong Kong and its cinematographic experience,\n",
      "as well as the incongruence between the community’s political\n",
      "consciousness after 1997 and the larger national imagination\n",
      "promulgated by the Beijing government. The term ‘extraterritoriality’\n",
      "was translated into Chinese after 1895 via Japanese as zhiwai faquan\n",
      "the right to exercise one’s law outside a nation state’s sovereign\n",
      "terrain, and colonialism in China between 1844 and 1949 was largely\n",
      "characterized by a continuous reformulation and systematisation of\n",
      "this concept. It in fact still informs the way former colonised\n",
      "regions in China are administered today, and the political unconscious\n",
      "of their residents. With Jonnie To’s 2012 film Duzhan (Dukzin) /Drug\n",
      "War as a case study, contemporary Hong Kong cinema, Fan argues, can be\n",
      "understood as a public sphere where an extraterritorial consciousness\n",
      "and the contesting political affects associated with it are actively\n",
      "negotiated.\n"
     ]
    }
   ],
   "source": [
    "print(fill(df.loc[0, \"summary\"]))"
   ]
  },
  {
   "cell_type": "code",
   "execution_count": 9,
   "id": "4e812fe6",
   "metadata": {},
   "outputs": [],
   "source": [
    "df[\"text_len\"] = df.text.str.len()\n",
    "df[\"summary_len\"] = df.summary.str.len()\n",
    "df[\"text_len_log\"] = np.log10(df.text_len)\n",
    "df[\"summary_len_log\"] = np.log10(df.summary_len)"
   ]
  },
  {
   "cell_type": "code",
   "execution_count": 10,
   "id": "4b46ab61",
   "metadata": {},
   "outputs": [
    {
     "data": {
      "text/plain": [
       "<seaborn.axisgrid.JointGrid at 0x11a4937d0>"
      ]
     },
     "execution_count": 10,
     "metadata": {},
     "output_type": "execute_result"
    },
    {
     "data": {
      "image/png": "[encoded data removed]",
      "text/plain": [
       "<Figure size 600x600 with 3 Axes>"
      ]
     },
     "metadata": {},
     "output_type": "display_data"
    }
   ],
   "source": [
    "g = sns.jointplot(df, x=\"text_len_log\", y=\"summary_len_log\", kind=\"hist\")\n",
    "xticks = [3, 4, 5, 6]\n",
    "yticks = [2, np.log10(250), np.log10(500), 3, np.log10(2_500), np.log10(5_000), 4]\n",
    "g.ax_marg_x.set_xticks(xticks, [f\"{10**tick:,.0f}\" for tick in xticks])\n",
    "g.ax_marg_y.set_yticks(yticks, [f\"{10**tick:,.0f}\" for tick in yticks])\n",
    "g.set_axis_labels(\n",
    "    \"Num. characters in text (log scale)\", \"Num. characters in summary (log scale)\"\n",
    ")"
   ]
  },
  {
   "cell_type": "code",
   "execution_count": 11,
   "id": "68d13772",
   "metadata": {},
   "outputs": [
    {
     "data": {
      "text/html": [
       "<div>\n",
       "<style scoped>\n",
       "    .dataframe tbody tr th:only-of-type {\n",
       "        vertical-align: middle;\n",
       "    }\n",
       "\n",
       "    .dataframe tbody tr th {\n",
       "        vertical-align: top;\n",
       "    }\n",
       "\n",
       "    .dataframe thead th {\n",
       "        text-align: right;\n",
       "    }\n",
       "</style>\n",
       "<table border=\"1\" class=\"dataframe\">\n",
       "  <thead>\n",
       "    <tr style=\"text-align: right;\">\n",
       "      <th></th>\n",
       "      <th>text_len</th>\n",
       "      <th>summary_len</th>\n",
       "      <th>text_len_log</th>\n",
       "      <th>summary_len_log</th>\n",
       "    </tr>\n",
       "  </thead>\n",
       "  <tbody>\n",
       "    <tr>\n",
       "      <th>count</th>\n",
       "      <td>1000.000000</td>\n",
       "      <td>1000.000000</td>\n",
       "      <td>1000.000000</td>\n",
       "      <td>1000.000000</td>\n",
       "    </tr>\n",
       "    <tr>\n",
       "      <th>mean</th>\n",
       "      <td>42050.269000</td>\n",
       "      <td>1275.241000</td>\n",
       "      <td>4.574534</td>\n",
       "      <td>3.079240</td>\n",
       "    </tr>\n",
       "    <tr>\n",
       "      <th>std</th>\n",
       "      <td>21412.146068</td>\n",
       "      <td>426.262199</td>\n",
       "      <td>0.207977</td>\n",
       "      <td>0.162033</td>\n",
       "    </tr>\n",
       "    <tr>\n",
       "      <th>min</th>\n",
       "      <td>10145.000000</td>\n",
       "      <td>90.000000</td>\n",
       "      <td>4.006252</td>\n",
       "      <td>1.954243</td>\n",
       "    </tr>\n",
       "    <tr>\n",
       "      <th>25%</th>\n",
       "      <td>28381.500000</td>\n",
       "      <td>1008.500000</td>\n",
       "      <td>4.453035</td>\n",
       "      <td>3.003676</td>\n",
       "    </tr>\n",
       "    <tr>\n",
       "      <th>50%</th>\n",
       "      <td>38962.000000</td>\n",
       "      <td>1258.500000</td>\n",
       "      <td>4.590641</td>\n",
       "      <td>3.099853</td>\n",
       "    </tr>\n",
       "    <tr>\n",
       "      <th>75%</th>\n",
       "      <td>51263.250000</td>\n",
       "      <td>1501.250000</td>\n",
       "      <td>4.709806</td>\n",
       "      <td>3.176453</td>\n",
       "    </tr>\n",
       "    <tr>\n",
       "      <th>max</th>\n",
       "      <td>196911.000000</td>\n",
       "      <td>4359.000000</td>\n",
       "      <td>5.294270</td>\n",
       "      <td>3.639387</td>\n",
       "    </tr>\n",
       "  </tbody>\n",
       "</table>\n",
       "</div>"
      ],
      "text/plain": [
       "            text_len  summary_len  text_len_log  summary_len_log\n",
       "count    1000.000000  1000.000000   1000.000000      1000.000000\n",
       "mean    42050.269000  1275.241000      4.574534         3.079240\n",
       "std     21412.146068   426.262199      0.207977         0.162033\n",
       "min     10145.000000    90.000000      4.006252         1.954243\n",
       "25%     28381.500000  1008.500000      4.453035         3.003676\n",
       "50%     38962.000000  1258.500000      4.590641         3.099853\n",
       "75%     51263.250000  1501.250000      4.709806         3.176453\n",
       "max    196911.000000  4359.000000      5.294270         3.639387"
      ]
     },
     "execution_count": 11,
     "metadata": {},
     "output_type": "execute_result"
    }
   ],
   "source": [
    "df.describe()"
   ]
  },
  {
   "cell_type": "markdown",
   "id": "ef46c4c9",
   "metadata": {},
   "source": [
    "# train, test, validate splits"
   ]
  },
  {
   "cell_type": "code",
   "execution_count": 12,
   "id": "d455b2e3",
   "metadata": {},
   "outputs": [
    {
     "data": {
      "text/plain": [
       "'Train shape: (700, 6); Test shape: (300, 6)'"
      ]
     },
     "execution_count": 12,
     "metadata": {},
     "output_type": "execute_result"
    }
   ],
   "source": [
    "train, test = train_test_split(df, test_size=0.3, random_state=0)\n",
    "f\"Train shape: {train.shape}; Test shape: {test.shape}\""
   ]
  },
  {
   "cell_type": "code",
   "execution_count": 13,
   "id": "b3038663",
   "metadata": {},
   "outputs": [
    {
     "data": {
      "text/plain": [
       "'Train shape: (490, 6); Validation shape: (210, 6); Test shape: (300, 6)'"
      ]
     },
     "execution_count": 13,
     "metadata": {},
     "output_type": "execute_result"
    }
   ],
   "source": [
    "train, validation = train_test_split(train, test_size=0.30, random_state=0)\n",
    "f\"Train shape: {train.shape}; Validation shape: {validation.shape}; Test shape: {test.shape}\""
   ]
  },
  {
   "cell_type": "markdown",
   "id": "a524685a",
   "metadata": {},
   "source": [
    "# Prompting"
   ]
  },
  {
   "cell_type": "code",
   "execution_count": 14,
   "id": "51a7bf67",
   "metadata": {},
   "outputs": [
    {
     "name": "stdout",
     "output_type": "stream",
     "text": [
      "Document (500 of 135,755 characters):\n",
      "## 1.1 Policy context\n",
      "\n",
      "\n",
      "Some 25 per cent of Australians live outside\n",
      "one of the nation's capitals, resulting in a substantial\n",
      "nonmetropolitan population in absolute terms, but a much smaller\n",
      "population relative to the total number resident in the largest\n",
      "metropolitan centres. Policy for rural and regional housing across\n",
      "Australia is made complex by federation: the Australian Government has\n",
      "relatively few direct powers with respect to housing, but remains an\n",
      "important source of financial support...\n",
      "\n",
      "Summary (1,405 characters):\n",
      "This AHURI research examined housing trends and the processes of\n",
      "delivering affordable housing supply in rural and regional Australia.\n",
      "These rural and regional housing markets have faced substantial\n",
      "challenges for more than three decades, including poor housing\n",
      "affordability; under-developed supply chains; the shortage of skilled\n",
      "and unskilled labour force; increasing demand for housing in some\n",
      "localities, while other centres decline; together with limited policy\n",
      "attention to the specific needs of rural and regional Australia.  A\n",
      "clear research finding is the need for government action to ‘unfreeze’\n",
      "rural and regional housing markets, making substantial investments and\n",
      "interventions in regional housing markets and developing stronger\n",
      "supply chains for rural and regional housing. The development of a\n",
      "national urban and regional strategy would also provide certainty for\n",
      "private investment, while also unlocking potential State and\n",
      "Australian government support.  To overcome the shortage of labour to\n",
      "work on dwelling construction, a guaranteed program of investment in\n",
      "work and new-builds may be needed to attract and retain labour in the\n",
      "housing sector so as to create a more secure pipeline of work for\n",
      "builders and their workforce. This would need to be a long-term\n",
      "strategy, otherwise short-term action may exacerbate existing\n",
      "challenges, placing additional price pressure into the market.\n"
     ]
    }
   ],
   "source": [
    "def doc_and_summary_from_row(doc_row: pd.Series):\n",
    "    \"\"\"Pull out the document and summary\"\"\"\n",
    "    return doc_row[\"text\"], doc_row[\"summary\"]\n",
    "\n",
    "\n",
    "def show_doc_and_summary(doc: str, summary: str, max_len_to_print: int = 500) -> str:\n",
    "    \"\"\"Show a little bit of a doc and its summary\"\"\"\n",
    "\n",
    "    return (\n",
    "        f\"Document ({max_len_to_print:,} of {len(doc):,} characters):\\n\"\n",
    "        f\"{fill(doc[:max_len_to_print], replace_whitespace=False)}...\\n\\n\"\n",
    "        f\"Summary ({len(summary):,} characters):\\n\"\n",
    "        f\"{fill(summary)}\"\n",
    "    )\n",
    "\n",
    "\n",
    "doc_row = train.loc[533]\n",
    "doc, summary = doc_and_summary_from_row(doc_row)\n",
    "\n",
    "print(show_doc_and_summary(doc, summary))"
   ]
  },
  {
   "cell_type": "code",
   "execution_count": 15,
   "id": "aa67a54e",
   "metadata": {},
   "outputs": [
    {
     "name": "stdout",
     "output_type": "stream",
     "text": [
      "Our prompt (135,802 characters):\n",
      "Here is a terrific one-sentence summary of \"## 1.1 Policy co ... e off housing nationwide.\n",
      "\n",
      "\": \n"
     ]
    }
   ],
   "source": [
    "prompt_template = 'Here is a terrific one-sentence summary of \"{doc}\": '\n",
    "prompt = prompt_template.format(doc=doc)\n",
    "\n",
    "\n",
    "def show_prompt(prompt: str, start_chars: int = 60, end_chars: int = 30) -> str:\n",
    "    \"\"\"Nicely format a prompt\"\"\"\n",
    "    return f\"Our prompt ({len(prompt):,} characters):\\n{prompt[:start_chars]} ... {prompt[-end_chars:]}\"\n",
    "\n",
    "\n",
    "print(show_prompt(prompt))"
   ]
  },
  {
   "cell_type": "code",
   "execution_count": 16,
   "id": "cb789846",
   "metadata": {},
   "outputs": [
    {
     "data": {
      "text/plain": [
       "{'version': '0.11.4'}"
      ]
     },
     "execution_count": 16,
     "metadata": {},
     "output_type": "execute_result"
    }
   ],
   "source": [
    "requests.get(LLM_SERVER + \"/api/version\").json()"
   ]
  },
  {
   "cell_type": "markdown",
   "id": "9a5e600f",
   "metadata": {},
   "source": [
    "## api def"
   ]
  },
  {
   "cell_type": "code",
   "execution_count": 17,
   "id": "e380a2a5",
   "metadata": {},
   "outputs": [],
   "source": [
    "def get_llm_completion(\n",
    "    prompt: str, max_tokens: int | None = None, top_k: int | None = None\n",
    ") -> str:\n",
    "    \"\"\"Hit an API endpoint to get an LLM completion\"\"\"\n",
    "    data = {\n",
    "        \"model\": MODEL,\n",
    "        \"prompt\": prompt,\n",
    "        \"seed\": 0,\n",
    "        \"max_tokens\": max_tokens,\n",
    "        \"top_k\": top_k,\n",
    "    }\n",
    "    resp = requests.post(LLM_SERVER + \"/v1/completions\", json=data)\n",
    "    return resp.json()[\"choices\"][0][\"text\"]"
   ]
  },
  {
   "cell_type": "code",
   "execution_count": 18,
   "id": "12f9b2bb",
   "metadata": {},
   "outputs": [
    {
     "name": "stdout",
     "output_type": "stream",
     "text": [
      "Here is a terrific one-sentence summary of \"{doc}\": \n",
      "\n",
      "Okay, here's a breakdown of the key takeaways from the provided text,\n",
      "organized for clarity and impact:\n",
      "\n",
      "**Core Argument & Key Points:**\n",
      "\n",
      "*\n",
      "**Regional Housing Disruption is a Growing Problem:** The text\n",
      "highlights a significant challenge facing Australia’s regional housing\n",
      "markets – a combination of long-term economic shifts, pandemic-related\n",
      "changes, and a lack of strategic policy.\n",
      "* **Lack of Effective Policy\n",
      "Response:** Current government policies haven’t been effective enough\n",
      "to address this disruption.  The current approach lacks the foresight\n",
      "and targeted investment needed.\n",
      "* **International Lessons Needed:**\n",
      "The text emphasizes that the Nordic countries are a prime example of\n",
      "successful regional housing policies, suggesting that a more proactive\n",
      "approach is warranted, but the model needs to be adapted for\n",
      "Australia's specific context.\n",
      "* **Three Key Approaches to Address the\n",
      "Challenge:**\n",
      "    1. **Regional Housing Providers:** Focus on\n",
      "increasing housing supply by capitalizing on \n"
     ]
    }
   ],
   "source": [
    "completion = get_llm_completion(prompt)\n",
    "print(prompt_template + \"\\n\\n\" + fill(completion, replace_whitespace=False)[:1000])"
   ]
  },
  {
   "cell_type": "code",
   "execution_count": 19,
   "id": "7599550b",
   "metadata": {},
   "outputs": [],
   "source": [
    "def count_tokens(text: str) -> int:\n",
    "    \"\"\"Count the number of tokens in a string\"\"\"\n",
    "    enc = tiktoken.encoding_for_model(\"gpt-4o\")\n",
    "    return len(enc.encode(text))"
   ]
  },
  {
   "cell_type": "code",
   "execution_count": 20,
   "id": "193660a2",
   "metadata": {},
   "outputs": [
    {
     "name": "stdout",
     "output_type": "stream",
     "text": [
      "Our prompt is 25,853 tokens.\n"
     ]
    }
   ],
   "source": [
    "print(f\"Our prompt is {count_tokens(prompt):,} tokens.\")"
   ]
  },
  {
   "cell_type": "code",
   "execution_count": 21,
   "id": "e99c429b",
   "metadata": {},
   "outputs": [
    {
     "name": "stdout",
     "output_type": "stream",
     "text": [
      "Our shorter prompt is 1,361 tokens long.\n",
      "Our prompt (7,547 characters):\n",
      "Here is a terrific one-sentence summary of \"## 1.1 Policy co ... rdable rental housing (Mart\": \n"
     ]
    }
   ],
   "source": [
    "shorter_prompt = prompt_template.format(doc=doc[:7_500])\n",
    "print(f\"Our shorter prompt is {count_tokens(shorter_prompt):,} tokens long.\")\n",
    "print(show_prompt(shorter_prompt))"
   ]
  },
  {
   "cell_type": "code",
   "execution_count": 22,
   "id": "601a8808",
   "metadata": {},
   "outputs": [
    {
     "name": "stdout",
     "output_type": "stream",
     "text": [
      "Okay, here’s a breakdown of the key takeaways from the provided text,\n",
      "organized for clarity:\n",
      "\n",
      "**1. The Housing Crisis in Australia – A\n",
      "Complex Problem**\n",
      "\n",
      "*   **Significant Disparity:** Australia has a\n",
      "large population concentrated in capital cities, while a significant\n",
      "portion of the population lives in rural and regional areas. This\n",
      "creates a complex housing challenge.\n",
      "*   **Federal Division:** The\n",
      "Australian government’s limited direct control over housing policies\n",
      "across the entire economy hinders effective regional solutions.\n",
      "*\n",
      "**State & Territory Responsibility:** State and territory governments\n",
      "hold significant housing responsibilities, but they have limited\n",
      "resources and competing priorities. Local governments have limited\n",
      "authority.\n",
      "\n",
      "**2. Key Programs and Initiatives – Focusing on Rural &\n",
      "Regional Housing**\n",
      "\n",
      "*   **Regional First Home Buyer Guarantee\n",
      "(RFHBG):** A significant program administered by Housing Australia,\n",
      "providing up to 15% of a regional home buyer's loan to help th\n"
     ]
    }
   ],
   "source": [
    "completion = get_llm_completion(shorter_prompt)\n",
    "print(fill(completion, replace_whitespace=False)[:1000])"
   ]
  },
  {
   "cell_type": "markdown",
   "id": "8b1f12a1",
   "metadata": {},
   "source": [
    "# openai api"
   ]
  },
  {
   "cell_type": "code",
   "execution_count": 24,
   "id": "4843176a",
   "metadata": {},
   "outputs": [
    {
     "name": "stdout",
     "output_type": "stream",
     "text": [
      "As a large language model, I don't have a name or personal preferences\n",
      "like humans do! 😊 \n",
      "\n",
      "However, if I *were* to choose a favorite ice\n",
      "cream flavor based on the data I’ve processed, it would probably be\n",
      "**chocolate chip cookie dough**. It seems to be consistently popular\n",
      "and incredibly comforting to me. \n",
      "\n",
      "But honestly, I don’t have a\n",
      "physical preference! 😉 \n",
      "\n",
      "Do you have a favorite ice cream flavor?\n"
     ]
    }
   ],
   "source": [
    "from openai import OpenAI\n",
    "\n",
    "llm_client = OpenAI(base_url=LLM_SERVER + \"/v1\", api_key=\"my-fake-free-api-key!\")\n",
    "\n",
    "chat_completion = llm_client.chat.completions.create(\n",
    "    messages=[\n",
    "        {\n",
    "            \"role\": \"user\",\n",
    "            \"content\": \"What's your name, age, and favorite ice cream flavor?\",\n",
    "        }\n",
    "    ],\n",
    "    model=MODEL,\n",
    "    seed=0,\n",
    ")\n",
    "print(fill(chat_completion.choices[0].message.content, replace_whitespace=False))"
   ]
  },
  {
   "cell_type": "code",
   "execution_count": 25,
   "id": "a79391fa",
   "metadata": {},
   "outputs": [],
   "source": [
    "def ask_llm(prompt: str, max_tokens: int = 500):\n",
    "    \"\"\"Get a response from an LLM using the OpenAI client\"\"\"\n",
    "    chat_completion = llm_client.chat.completions.create(\n",
    "        messages=[\n",
    "            {\n",
    "                \"role\": \"user\",\n",
    "                \"content\": prompt,\n",
    "            }\n",
    "        ],\n",
    "        model=MODEL,\n",
    "        seed=0,\n",
    "        max_tokens=max_tokens,\n",
    "    )\n",
    "    return chat_completion.choices[0].message.content, chat_completion"
   ]
  },
  {
   "cell_type": "code",
   "execution_count": 26,
   "id": "d29f74d8",
   "metadata": {},
   "outputs": [],
   "source": [
    "prompt_template = (\n",
    "    \"Can you please write a terrific one-sentence summary of this document:\\n\\n{doc}\"\n",
    ")\n",
    "resp, completion = ask_llm(prompt_template.format(doc=doc[:10_000]))"
   ]
  },
  {
   "cell_type": "code",
   "execution_count": 27,
   "id": "b64ad581",
   "metadata": {},
   "outputs": [
    {
     "name": "stdout",
     "output_type": "stream",
     "text": [
      "Prompt tokens     : 1,904\n",
      "Completion tokens : 284\n"
     ]
    }
   ],
   "source": [
    "print(\n",
    "    f\"Prompt tokens     : {completion.usage.prompt_tokens:,}\\nCompletion tokens : {completion.usage.completion_tokens:,}\"\n",
    ")"
   ]
  },
  {
   "cell_type": "code",
   "execution_count": 28,
   "id": "96385f1f",
   "metadata": {},
   "outputs": [
    {
     "name": "stdout",
     "output_type": "stream",
     "text": [
      "Here are a few options for a one-sentence summary of the document,\n",
      "varying in length and focus:\n",
      "\n",
      "**Option 1 (Concise):**\n",
      "\n",
      "The document\n",
      "analyzes the complex challenges of rural and regional housing in\n",
      "Australia, highlighting the significant role of federal policy, state\n",
      "and territory initiatives, and local government action, particularly\n",
      "through programs like the Housing Australia Future Fund, emphasizing\n",
      "the need for targeted support and innovative approaches to address\n",
      "regional disparities.\n",
      "\n",
      "**Option 2 (More Detailed):**\n",
      "\n",
      "This analysis\n",
      "examines the multifaceted challenges of housing in Australia’s rural\n",
      "and regional areas, exploring the impact of federation, state and\n",
      "local government roles, and the role of government funding initiatives\n",
      "like the Housing Australia Future Fund, while also highlighting the\n",
      "growing importance of local government involvement in shaping the\n",
      "future of these communities.\n",
      "\n",
      "**Option 3 (Focus on Current Trends):**\n",
      "Recognizing the significant disparity in housing outcomes across\n",
      "Australia’s rural regions, this document examines current policies and\n",
      "programs designed to address regional development, with a particular\n",
      "focus on recent innovations such as the Shire of Ashburton’s proactive\n",
      "housing provision in the face of regional economic challenges.\n",
      "\n",
      "---\n",
      "To help me tailor the summary even better, could you tell me:\n",
      "\n",
      "*\n",
      "**What is the main point you want to emphasize?** (e.g., the need for\n",
      "more support, the role of local governments, the impact of specific\n",
      "programs?)\n"
     ]
    }
   ],
   "source": [
    "print(fill(resp, replace_whitespace=False))"
   ]
  },
  {
   "cell_type": "code",
   "execution_count": 29,
   "id": "1b61fd8d",
   "metadata": {},
   "outputs": [],
   "source": [
    "def summarize(doc: str, max_doc_chars: int = 7_000) -> str:\n",
    "    \"\"\"Summarize (part of) a document\"\"\"\n",
    "    prompt_template = (\n",
    "        \"Can you please write a terrific one-sentence summary of this document:\\n\\n{doc}\"\n",
    "    )\n",
    "    resp, completion = ask_llm(prompt_template.format(doc=doc[:max_doc_chars]))\n",
    "    return resp\n",
    "\n",
    "\n",
    "def predict_on_dataset(\n",
    "    df: pd.DataFrame, max_docs: int | None = None, summarize_fn=summarize\n",
    ") -> dict[int, str]:\n",
    "    \"\"\"Generate a summary for every document in a dataframe\"\"\"\n",
    "    doc_id_to_summary = {}\n",
    "    max_docs = max_docs or df.shape[0]\n",
    "    for id, row in tqdm(df.head(max_docs).iterrows(), total=max_docs, smoothing=0):\n",
    "        doc = row[\"text\"]\n",
    "        doc_id_to_summary[id] = summarize_fn(doc)\n",
    "    return doc_id_to_summary"
   ]
  },
  {
   "cell_type": "code",
   "execution_count": 30,
   "id": "17ea4306",
   "metadata": {},
   "outputs": [
    {
     "name": "stderr",
     "output_type": "stream",
     "text": [
      "100%|██████████| 5/5 [00:14<00:00,  2.98s/it]\n"
     ]
    },
    {
     "data": {
      "text/plain": [
       "{827: \"Here's a one-sentence summary of the document, aiming for conciseness and highlighting the key points:\\n\\n**Suzuki’s early involvement with anime and film, initially through a magazine and then a publishing house, laid the groundwork for the creation of Studio Ghibli and ultimately shaped the industry’s history through his insightful observations and connections.** \\n\\nHere's a slightly more detailed breakdown of why this is a good summary:\\n\\n*   **Focuses on the core narrative:** It highlights Suzuki’s role as a key figure in the development of Ghibli.\\n*   **Emphasizes his contribution:** It underscores the impact of his work – his observations, connections, and ultimately, his actions.\\n*   **Concise:** It’s a single, clear statement of the document’s central point.\",\n",
       " 166: 'This study examines the collaborative translation of Rajaa Alsanea’s *Girls of Riyadh* by Marilyn Booth and the self-translator, Alsanea, analyzing how the translation process reflects the tension between stylistic choices, cultural representation, and the translator’s own perspective.  The research investigates the extent to which the literal and functional approaches employed in the translation reflect the self-translator’s intent and the impact of the original text’s cultural context on the final product.',\n",
       " 170: \"Here's a one-sentence summary of the document:\\n\\nDespite the growing recognition of ADHD as a misunderstood and stigmatized condition, the pervasive negative societal perception of it continues to hinder treatment and significantly impact individuals' lives, particularly in regions with limited research on the topic, highlighting a critical need for greater understanding and addressing the harmful consequences of stigmatization.\",\n",
       " 328: 'This paper examines how research priorities in health, particularly cardiometabolic and mental health, are shifting, focusing on whether research efforts are adequately aligned with societal needs and demands, as highlighted by the increasing focus on prevention and social determinants of health.',\n",
       " 347: 'Here’s a one-sentence summary of the document, capturing its core focus and argument:\\n\\nThis research investigates the challenges faced by ESL students in writing, specifically focusing on the effectiveness of instructional scaffolding in improving their writing skills and highlighting the crucial role of social constructivism and Vygotsky’s Zone of Proximal Development in supporting this process.'}"
      ]
     },
     "execution_count": 30,
     "metadata": {},
     "output_type": "execute_result"
    }
   ],
   "source": [
    "id_to_summary = predict_on_dataset(train, max_docs=5)\n",
    "id_to_summary"
   ]
  },
  {
   "cell_type": "code",
   "execution_count": 31,
   "id": "0170022f",
   "metadata": {},
   "outputs": [
    {
     "name": "stderr",
     "output_type": "stream",
     "text": [
      "100%|██████████| 490/490 [29:01<00:00,  3.55s/it]\n"
     ]
    },
    {
     "data": {
      "text/html": [
       "<div>\n",
       "<style scoped>\n",
       "    .dataframe tbody tr th:only-of-type {\n",
       "        vertical-align: middle;\n",
       "    }\n",
       "\n",
       "    .dataframe tbody tr th {\n",
       "        vertical-align: top;\n",
       "    }\n",
       "\n",
       "    .dataframe thead th {\n",
       "        text-align: right;\n",
       "    }\n",
       "</style>\n",
       "<table border=\"1\" class=\"dataframe\">\n",
       "  <thead>\n",
       "    <tr style=\"text-align: right;\">\n",
       "      <th></th>\n",
       "      <th>text</th>\n",
       "      <th>summary</th>\n",
       "      <th>text_len</th>\n",
       "      <th>summary_len</th>\n",
       "      <th>text_len_log</th>\n",
       "      <th>summary_len_log</th>\n",
       "      <th>my_summary</th>\n",
       "    </tr>\n",
       "    <tr>\n",
       "      <th>paper_id</th>\n",
       "      <th></th>\n",
       "      <th></th>\n",
       "      <th></th>\n",
       "      <th></th>\n",
       "      <th></th>\n",
       "      <th></th>\n",
       "      <th></th>\n",
       "    </tr>\n",
       "  </thead>\n",
       "  <tbody>\n",
       "    <tr>\n",
       "      <th>827</th>\n",
       "      <td>## THE EARLY DAYS\\n\\n\\nSuzuki's link with anim...</td>\n",
       "      <td>While so-called ‘Ghibli films’ attract global ...</td>\n",
       "      <td>35403</td>\n",
       "      <td>1446</td>\n",
       "      <td>4.549040</td>\n",
       "      <td>3.160168</td>\n",
       "      <td>Here's a one-sentence summary of the document,...</td>\n",
       "    </tr>\n",
       "    <tr>\n",
       "      <th>166</th>\n",
       "      <td>## Introduction\\n\\n\\nThe paper aims to assess ...</td>\n",
       "      <td>The paper aims to assess the quality of the En...</td>\n",
       "      <td>56832</td>\n",
       "      <td>1964</td>\n",
       "      <td>4.754593</td>\n",
       "      <td>3.293141</td>\n",
       "      <td>This study examines the collaborative translat...</td>\n",
       "    </tr>\n",
       "    <tr>\n",
       "      <th>170</th>\n",
       "      <td>## Introduction\\n\\n\\nThe medical world is cons...</td>\n",
       "      <td>The medical world is constantly changing. The ...</td>\n",
       "      <td>32191</td>\n",
       "      <td>2364</td>\n",
       "      <td>4.507734</td>\n",
       "      <td>3.373647</td>\n",
       "      <td>Here's a one-sentence summary of the document:...</td>\n",
       "    </tr>\n",
       "    <tr>\n",
       "      <th>328</th>\n",
       "      <td>## 1. Introduction\\n\\n\\nResearch and innovatio...</td>\n",
       "      <td>A current issue in mission-oriented research p...</td>\n",
       "      <td>68076</td>\n",
       "      <td>1049</td>\n",
       "      <td>4.832994</td>\n",
       "      <td>3.020775</td>\n",
       "      <td>This paper examines how research priorities in...</td>\n",
       "    </tr>\n",
       "    <tr>\n",
       "      <th>347</th>\n",
       "      <td>## Introduction\\n\\n\\nTeaching writing to ESL s...</td>\n",
       "      <td>The present research is a small-scale case stu...</td>\n",
       "      <td>38230</td>\n",
       "      <td>1518</td>\n",
       "      <td>4.582404</td>\n",
       "      <td>3.181272</td>\n",
       "      <td>Here’s a one-sentence summary of the document,...</td>\n",
       "    </tr>\n",
       "    <tr>\n",
       "      <th>...</th>\n",
       "      <td>...</td>\n",
       "      <td>...</td>\n",
       "      <td>...</td>\n",
       "      <td>...</td>\n",
       "      <td>...</td>\n",
       "      <td>...</td>\n",
       "      <td>...</td>\n",
       "    </tr>\n",
       "    <tr>\n",
       "      <th>195</th>\n",
       "      <td>## Introduction\\n\\n\\nSince the 1980s, low-fert...</td>\n",
       "      <td>While extensive literature documents the massi...</td>\n",
       "      <td>41787</td>\n",
       "      <td>1017</td>\n",
       "      <td>4.621041</td>\n",
       "      <td>3.007321</td>\n",
       "      <td>Here’s a one-sentence summary of the document,...</td>\n",
       "    </tr>\n",
       "    <tr>\n",
       "      <th>948</th>\n",
       "      <td>## Introduction\\n\\n\\nEmpirically  analyzing  h...</td>\n",
       "      <td>The causal identification of network effects i...</td>\n",
       "      <td>36116</td>\n",
       "      <td>582</td>\n",
       "      <td>4.557700</td>\n",
       "      <td>2.764923</td>\n",
       "      <td>Here’s a one-sentence summary of the document,...</td>\n",
       "    </tr>\n",
       "    <tr>\n",
       "      <th>756</th>\n",
       "      <td>## 3 Data and Methods\\n\\n\\n213\\n\\n\\n## 3.1 Dat...</td>\n",
       "      <td>Interviewer effects are a common challenge in ...</td>\n",
       "      <td>38974</td>\n",
       "      <td>1271</td>\n",
       "      <td>4.590775</td>\n",
       "      <td>3.104146</td>\n",
       "      <td>This study analyzes the European Social Survey...</td>\n",
       "    </tr>\n",
       "    <tr>\n",
       "      <th>574</th>\n",
       "      <td>2.1 Risk Integration\\n\\n\\nSeveral methods have...</td>\n",
       "      <td>Effective risk management in a multi-business ...</td>\n",
       "      <td>16345</td>\n",
       "      <td>606</td>\n",
       "      <td>4.213385</td>\n",
       "      <td>2.782473</td>\n",
       "      <td>Here's a one-sentence summary of the document,...</td>\n",
       "    </tr>\n",
       "    <tr>\n",
       "      <th>472</th>\n",
       "      <td>## BTS MUSIC VIDEOS AND HALLYU\\n\\n\\nK-Pop has ...</td>\n",
       "      <td>The recent music video ‘Idol’ (published 24 Au...</td>\n",
       "      <td>45772</td>\n",
       "      <td>1284</td>\n",
       "      <td>4.660600</td>\n",
       "      <td>3.108565</td>\n",
       "      <td>Here’s a one-sentence summary of the document,...</td>\n",
       "    </tr>\n",
       "  </tbody>\n",
       "</table>\n",
       "<p>490 rows × 7 columns</p>\n",
       "</div>"
      ],
      "text/plain": [
       "                                                       text  \\\n",
       "paper_id                                                      \n",
       "827       ## THE EARLY DAYS\\n\\n\\nSuzuki's link with anim...   \n",
       "166       ## Introduction\\n\\n\\nThe paper aims to assess ...   \n",
       "170       ## Introduction\\n\\n\\nThe medical world is cons...   \n",
       "328       ## 1. Introduction\\n\\n\\nResearch and innovatio...   \n",
       "347       ## Introduction\\n\\n\\nTeaching writing to ESL s...   \n",
       "...                                                     ...   \n",
       "195       ## Introduction\\n\\n\\nSince the 1980s, low-fert...   \n",
       "948       ## Introduction\\n\\n\\nEmpirically  analyzing  h...   \n",
       "756       ## 3 Data and Methods\\n\\n\\n213\\n\\n\\n## 3.1 Dat...   \n",
       "574       2.1 Risk Integration\\n\\n\\nSeveral methods have...   \n",
       "472       ## BTS MUSIC VIDEOS AND HALLYU\\n\\n\\nK-Pop has ...   \n",
       "\n",
       "                                                    summary  text_len  \\\n",
       "paper_id                                                                \n",
       "827       While so-called ‘Ghibli films’ attract global ...     35403   \n",
       "166       The paper aims to assess the quality of the En...     56832   \n",
       "170       The medical world is constantly changing. The ...     32191   \n",
       "328       A current issue in mission-oriented research p...     68076   \n",
       "347       The present research is a small-scale case stu...     38230   \n",
       "...                                                     ...       ...   \n",
       "195       While extensive literature documents the massi...     41787   \n",
       "948       The causal identification of network effects i...     36116   \n",
       "756       Interviewer effects are a common challenge in ...     38974   \n",
       "574       Effective risk management in a multi-business ...     16345   \n",
       "472       The recent music video ‘Idol’ (published 24 Au...     45772   \n",
       "\n",
       "          summary_len  text_len_log  summary_len_log  \\\n",
       "paper_id                                               \n",
       "827              1446      4.549040         3.160168   \n",
       "166              1964      4.754593         3.293141   \n",
       "170              2364      4.507734         3.373647   \n",
       "328              1049      4.832994         3.020775   \n",
       "347              1518      4.582404         3.181272   \n",
       "...               ...           ...              ...   \n",
       "195              1017      4.621041         3.007321   \n",
       "948               582      4.557700         2.764923   \n",
       "756              1271      4.590775         3.104146   \n",
       "574               606      4.213385         2.782473   \n",
       "472              1284      4.660600         3.108565   \n",
       "\n",
       "                                                 my_summary  \n",
       "paper_id                                                     \n",
       "827       Here's a one-sentence summary of the document,...  \n",
       "166       This study examines the collaborative translat...  \n",
       "170       Here's a one-sentence summary of the document:...  \n",
       "328       This paper examines how research priorities in...  \n",
       "347       Here’s a one-sentence summary of the document,...  \n",
       "...                                                     ...  \n",
       "195       Here’s a one-sentence summary of the document,...  \n",
       "948       Here’s a one-sentence summary of the document,...  \n",
       "756       This study analyzes the European Social Survey...  \n",
       "574       Here's a one-sentence summary of the document,...  \n",
       "472       Here’s a one-sentence summary of the document,...  \n",
       "\n",
       "[490 rows x 7 columns]"
      ]
     },
     "execution_count": 31,
     "metadata": {},
     "output_type": "execute_result"
    }
   ],
   "source": [
    "train_id_to_summary = predict_on_dataset(train)\n",
    "train_preds = train.assign(my_summary=train_id_to_summary)\n",
    "train_preds"
   ]
  },
  {
   "cell_type": "code",
   "execution_count": 34,
   "id": "fb21ff2e",
   "metadata": {},
   "outputs": [
    {
     "name": "stderr",
     "output_type": "stream",
     "text": [
      "100%|██████████| 210/210 [11:40<00:00,  3.33s/it]\n"
     ]
    }
   ],
   "source": [
    "val_id_to_summary = predict_on_dataset(validation)\n",
    "val_preds = validation.assign(my_summary=val_id_to_summary)"
   ]
  },
  {
   "cell_type": "code",
   "execution_count": 33,
   "id": "ab42f08f",
   "metadata": {},
   "outputs": [],
   "source": [
    "train_preds.to_csv('train_preds.csv', index=False)"
   ]
  },
  {
   "cell_type": "code",
   "execution_count": 36,
   "id": "5f8fe566",
   "metadata": {},
   "outputs": [],
   "source": [
    "# type(val_id_to_summary), type(val_preds)\n",
    "\n",
    "val_preds.to_csv('val_preds_09052025.csv', index=False)"
   ]
  },
  {
   "cell_type": "code",
   "execution_count": null,
   "id": "7ef5d3db",
   "metadata": {},
   "outputs": [],
   "source": []
  }
 ],
 "metadata": {
  "kernelspec": {
   "display_name": "Python 3",
   "language": "python",
   "name": "python3"
  },
  "language_info": {
   "codemirror_mode": {
    "name": "ipython",
    "version": 3
   },
   "file_extension": ".py",
   "mimetype": "text/x-python",
   "name": "python",
   "nbconvert_exporter": "python",
   "pygments_lexer": "ipython3",
   "version": "3.12.8"
  }
 },
 "nbformat": 4,
 "nbformat_minor": 5
}
