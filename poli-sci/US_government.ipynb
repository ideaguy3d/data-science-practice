{
 "cells": [
  {
   "cell_type": "markdown",
   "id": "0626e5fa",
   "metadata": {},
   "source": [
    "## Unit 4: The Judicial Branch \n",
    "\n",
    "\n",
    "### lesson 1: The role of the Judicial Branch\n",
    "\n",
    "\n",
    "### lesson 2: How the judiciary maintains legitimacy\n",
    "\n",
    "\n",
    "### lesson 3: Who checks the power of the Judicial Branch? \n",
    "\n"
   ]
  },
  {
   "cell_type": "code",
   "execution_count": null,
   "id": "48dcbe00",
   "metadata": {},
   "outputs": [],
   "source": []
  },
  {
   "cell_type": "code",
   "execution_count": 1,
   "id": "4ecaf2b7",
   "metadata": {},
   "outputs": [],
   "source": [
    "x = 'hi'"
   ]
  },
  {
   "cell_type": "code",
   "execution_count": null,
   "id": "e934f822",
   "metadata": {},
   "outputs": [],
   "source": []
  }
 ],
 "metadata": {
  "kernelspec": {
   "display_name": "Python 3",
   "language": "python",
   "name": "python3"
  },
  "language_info": {
   "codemirror_mode": {
    "name": "ipython",
    "version": 3
   },
   "file_extension": ".py",
   "mimetype": "text/x-python",
   "name": "python",
   "nbconvert_exporter": "python",
   "pygments_lexer": "ipython3",
   "version": "3.12.8"
  }
 },
 "nbformat": 4,
 "nbformat_minor": 5
}
