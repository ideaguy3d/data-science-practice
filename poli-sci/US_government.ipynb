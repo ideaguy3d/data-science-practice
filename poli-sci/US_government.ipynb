{
 "cells": [
  {
   "cell_type": "markdown",
   "id": "23c6e920",
   "metadata": {},
   "source": [
    "# Unit 1: Foundations of American democracy\n",
    "\n",
    "\n",
    "## Lesson 1: Welcome to US government and civics!\n",
    "\n",
    "## Lesson 2: Why do societies create governments?\n",
    "\n",
    "## Lesson 3: What democratic ideals shaped the U.S. government?\n",
    "\n",
    "## Lesson 4: What are different types of democracy?\n",
    "\n",
    "### - Quiz 1 -\n",
    "\n",
    "\n",
    "## Lesson 5: Why did the Articles of Confederation fail?\n",
    "\n",
    "## Lesson 6: How was the Constitution designed, debated, and ratified?\n",
    "\n",
    "## Lesson 7: How does the U.S. government balance power and individual rights?\n",
    "\n",
    "## Lesson 8: What are key principles of American democracy?\n",
    "\n",
    "### - Quiz 2 -\n",
    "\n",
    "\n",
    "## Lesson 9: How is power divided between states and the federal government?\n",
    "\n",
    "## Lesson 10: What is federalism, and how does it work?\n",
    "\n",
    "## Lesson 11: How does federalism affect everyday life?\n",
    "\n",
    "### - Quiz 3 -\n",
    "\n",
    "\n",
    "//"
   ]
  },
  {
   "cell_type": "markdown",
   "id": "83036a82",
   "metadata": {},
   "source": []
  },
  {
   "cell_type": "markdown",
   "id": "0626e5fa",
   "metadata": {},
   "source": [
    "## Unit 4: The Judicial Branch \n",
    "\n",
    "\n",
    "### lesson 1: The role of the Judicial Branch\n",
    "\n",
    "\n",
    "### lesson 2: How the judiciary maintains legitimacy\n",
    "\n",
    "\n",
    "### lesson 3: Who checks the power of the Judicial Branch? \n",
    "\n"
   ]
  },
  {
   "cell_type": "markdown",
   "id": "c287ed42",
   "metadata": {},
   "source": []
  },
  {
   "cell_type": "code",
   "execution_count": null,
   "id": "48dcbe00",
   "metadata": {},
   "outputs": [],
   "source": []
  },
  {
   "cell_type": "markdown",
   "id": "93b5291e",
   "metadata": {},
   "source": [
    "# Unit 5: Protection of civil rights and liberties\n",
    "\n",
    "## lesson 1: What is the purpose of the Bill of rights?\n",
    "\n",
    "## lesson 2: How does the 1st Amendment protect the freedom of religion? \n",
    "\n",
    "## lesson 3: How does the 1st Amendment protect the freedom of speech?\n",
    "\n",
    "## lesson 4: How does the 1st Amendment protect freedom of the press?\n",
    "\n",
    "## lesson 5: How does the 2nd Amendment protect individual rights?  \n",
    "\n",
    "## lesson 6: How does the government balance liberty and public safety? ❤️\n",
    "\n",
    "## lesson 7: What is selective incorporation, and why does it matter?\n",
    "\n",
    "## lesson 8: How are the rights of the accused protected by the Constitution?\n",
    "\n",
    "## lesson 9: How is the right to privacy protected in U.S. law?\n"
   ]
  },
  {
   "cell_type": "code",
   "execution_count": null,
   "id": "4ecaf2b7",
   "metadata": {},
   "outputs": [],
   "source": []
  },
  {
   "cell_type": "markdown",
   "id": "f51484bb",
   "metadata": {},
   "source": [
    "# Unit 6: Citizenship\n",
    "\n",
    "## lesson 1: What does it mean to be a citizen? ✔️\n",
    "\n",
    "## lesson 2: What are the rights and responsibilities of citizenship? ✔️\n",
    "- one of the cheif responsibilities of the USA government is protecting the rights of US Citizens.\n",
    "- 3 types of rights: personal, economic, political \n",
    "\n",
    "## lesson 3; How has the definition of citizenship changed over time? ✔️\n",
    "\n",
    "### - Quiz 1 - ✔️\n",
    "\n",
    "\n",
    "## lesson 4: What is the difference between citizens and non-citizens? ✔️ \n",
    "\n",
    "## lesson 5: What is the pathway to citizenship? ✔️\n",
    "\n",
    "## lesson 6: How can someone lose their citizenship? ✔️ \n",
    "\n",
    "## Lesson 7: How can citizens shape and strengthen democracy?\n",
    "\n",
    "### - Quiz 2 - \n",
    "\n",
    "\n",
    "Unit 6 Test \n",
    "\n",
    "\n",
    "\n",
    "\n",
    "//"
   ]
  },
  {
   "cell_type": "markdown",
   "id": "7907268a",
   "metadata": {},
   "source": [
    "# Unit 7: Social Movements\n",
    "\n",
    "## Lesson 1: How are civil rights protected under the Fourteenth Amendment?\n",
    "\n",
    "## Lesson 2: How has the government responded to social movements?\n",
    "\n",
    "### - Quiz 1 - \n",
    "\n",
    "``` \n",
    "An unjust law is a code inflicted upon a minority which that minority had no part in enacting or creating \n",
    "```\n",
    "~ Dr. Martin Luther King, “Letter from a Birmingham Jail,” 1963\n",
    "\n",
    "\n",
    "## Lesson 3: How does the government balance majority rule and minority rights?\n",
    "\n",
    "## Lesson 4: What is affirmative action, and how does it impact society?\n",
    "\n",
    "\n",
    "Unit 7 Test  "
   ]
  },
  {
   "cell_type": "markdown",
   "id": "99201eb5",
   "metadata": {},
   "source": [
    "# Unit 8: American political ideologies and beliefs"
   ]
  },
  {
   "cell_type": "markdown",
   "id": "38e99f2c",
   "metadata": {},
   "source": [
    "# Unit 9: Political participation"
   ]
  },
  {
   "cell_type": "markdown",
   "id": "d5de9d48",
   "metadata": {},
   "source": [
    "# --------------------------------------------------"
   ]
  },
  {
   "cell_type": "markdown",
   "id": "636ff0aa",
   "metadata": {},
   "source": [
    "# Unit 10: Democracy today"
   ]
  },
  {
   "cell_type": "markdown",
   "id": "62b976d6",
   "metadata": {},
   "source": [
    "# Unit 11: Government & civics with CBS"
   ]
  },
  {
   "cell_type": "markdown",
   "id": "852fda4a",
   "metadata": {},
   "source": [
    "# Unit 12: The National Constitution Center"
   ]
  },
  {
   "cell_type": "markdown",
   "id": "4ff6c5d2",
   "metadata": {},
   "source": [
    "# Unit 13: American civics"
   ]
  },
  {
   "cell_type": "markdown",
   "id": "460a3cc2",
   "metadata": {},
   "source": [
    "# Unit 14: Primary documents"
   ]
  }
 ],
 "metadata": {
  "kernelspec": {
   "display_name": "Python 3",
   "language": "python",
   "name": "python3"
  },
  "language_info": {
   "codemirror_mode": {
    "name": "ipython",
    "version": 3
   },
   "file_extension": ".py",
   "mimetype": "text/x-python",
   "name": "python",
   "nbconvert_exporter": "python",
   "pygments_lexer": "ipython3",
   "version": "3.12.8"
  }
 },
 "nbformat": 4,
 "nbformat_minor": 5
}
