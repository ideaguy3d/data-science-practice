{
 "cells": [
  {
   "cell_type": "markdown",
   "id": "a6373fcd7139cf9d",
   "metadata": {
    "collapsed": false
   },
   "source": [
    "# Course high level notes\n",
    "\n",
    "- technical skills vs strategic skills\n",
    "- volunteer for nonprofits\n",
    "- data stewardship\n",
    "- ethics\n",
    "- privacy\n",
    "- communication skills \n",
    "- project management \n",
    "- strategy documents \n",
    "- regulations \n",
    "- accessibility \n"
   ]
  },
  {
   "cell_type": "markdown",
   "id": "9fe08979",
   "metadata": {},
   "source": [
    "# Communication techiques \n",
    "\n",
    "- try to contribute to improving morale \n",
    "- active listening\n",
    "- inviting feedback and questions \n",
    "- using viz's to tell data stories\n",
    "- make assumptions about data clear\n",
    "- identify bias's & worldview's you yourself may have that can alter the meaning/outcome \n",
    "- be considerate of other peoples bias's & worldviews \n",
    "\n",
    "Presentations \n",
    "- Make 1 and Only 1 point per major chart\n",
    "- Make clear \"Aha!\" areas \n",
    "- Titles for each chart \n",
    "- Take into account color blindness \n",
    "- no paragraphs\n",
    "- summary slide to reinforce points\n",
    "\n",
    "Share insights in a simple way to generate general understanding "
   ]
  },
  {
   "cell_type": "markdown",
   "id": "d624121c02410479",
   "metadata": {
    "collapsed": false
   },
   "source": [
    "# -- Project management techniques  "
   ]
  },
  {
   "cell_type": "markdown",
   "id": "97bc865e90b427de",
   "metadata": {
    "collapsed": false
   },
   "source": [
    "# --queries "
   ]
  },
  {
   "cell_type": "code",
   "execution_count": null,
   "id": "d94e587e356fea51",
   "metadata": {
    "collapsed": false
   },
   "outputs": [],
   "source": [
    "%%time \n",
    "\n"
   ]
  },
  {
   "cell_type": "code",
   "execution_count": null,
   "id": "593a337db3109deb",
   "metadata": {
    "collapsed": false
   },
   "outputs": [],
   "source": [
    "%%time \n",
    "\n"
   ]
  },
  {
   "cell_type": "code",
   "execution_count": null,
   "id": "7267900eb4be6824",
   "metadata": {
    "collapsed": false
   },
   "outputs": [],
   "source": [
    "%%time\n"
   ]
  },
  {
   "cell_type": "code",
   "execution_count": null,
   "id": "6950eb71f8bc7f2",
   "metadata": {
    "collapsed": false
   },
   "outputs": [],
   "source": [
    "%%time\n"
   ]
  },
  {
   "cell_type": "code",
   "execution_count": null,
   "id": "407658ae75e09697",
   "metadata": {
    "collapsed": false
   },
   "outputs": [],
   "source": [
    "%%time\n"
   ]
  },
  {
   "cell_type": "code",
   "execution_count": null,
   "id": "aade01b0e508fa73",
   "metadata": {
    "collapsed": false
   },
   "outputs": [],
   "source": [
    "%%time\n"
   ]
  },
  {
   "cell_type": "code",
   "execution_count": null,
   "id": "f3ddc3d55e3a23d9",
   "metadata": {
    "collapsed": false
   },
   "outputs": [],
   "source": [
    "%%time\n"
   ]
  }
 ],
 "metadata": {
  "kernelspec": {
   "display_name": "Python 3",
   "language": "python",
   "name": "python3"
  },
  "language_info": {
   "codemirror_mode": {
    "name": "ipython",
    "version": 2
   },
   "file_extension": ".py",
   "mimetype": "text/x-python",
   "name": "python",
   "nbconvert_exporter": "python",
   "pygments_lexer": "ipython2",
   "version": "2.7.6"
  }
 },
 "nbformat": 4,
 "nbformat_minor": 5
}
