{
 "cells": [
  {
   "cell_type": "markdown",
   "id": "0fec7df9",
   "metadata": {},
   "source": [
    "**Choosing a modeling approach** "
   ]
  },
  {
   "cell_type": "markdown",
   "id": "6ef72e25",
   "metadata": {},
   "source": [
    "# SageMaker built-in algo's\n",
    "\n",
    "\n",
    "## - supervised learning algo's \n",
    "\n",
    "### factorization machines\n",
    "https://docs.aws.amazon.com/sagemaker/latest/dg/fact-machines.html\n",
    "\n",
    "### object2vec \n",
    "https://docs.aws.amazon.com/sagemaker/latest/dg/object2vec.html\n",
    "\n",
    "\n",
    "--\n",
    "\n",
    "\n",
    "## - unsupervised learning algo's \n",
    "\n",
    "### Latent Dirichlet Allocation\n",
    "https://docs.aws.amazon.com/sagemaker/latest/dg/lda.html\n",
    "\n",
    "\n",
    "--\n",
    "\n",
    "\n",
    "## - text & speech algo's \n",
    "\n",
    "### BlazingText\n",
    "https://docs.aws.amazon.com/sagemaker/latest/dg/blazingtext.html\n",
    "\n",
    "\n",
    "### neural topic model \n",
    "https://docs.aws.amazon.com/sagemaker/latest/dg/ntm.html\n",
    "\n",
    "\n",
    "--\n",
    "\n",
    "## - image, video, time series algo's\n",
    "\n",
    "### single shot multibox detector\n",
    "https://arxiv.org/pdf/1512.02325.pdf \n",
    "https://arxiv.org/pdf/1409.1556.pdf\n",
    "https://arxiv.org/pdf/1603.05027.pdf \n",
    "\n",
    "\n",
    "--\n",
    "\n",
    "\n",
    "## reinforcement learning algo's  \n",
    "https://intellabs.github.io/coach/\n",
    "https://docs.ray.io/en/latest/rllib/index.html\n",
    "https://docs.aws.amazon.com/sagemaker/latest/dg/sagemaker-rl-environments.html\n",
    "https://docs.aws.amazon.com/sagemaker/latest/dg/reinforcement-learning.html\n",
    "\n"
   ]
  },
  {
   "cell_type": "markdown",
   "id": "2a5acc0e",
   "metadata": {},
   "source": [
    "# Selecting ML models or algo's \n",
    "\n",
    "## SageMaker AutoPilot\n",
    "- data analysis & processiong \n",
    "- model selection \n",
    "- hyperparameter optimization \n",
    "- model training & evaluation\n",
    "- model deployment \n",
    "\n",
    "https://docs.aws.amazon.com/sagemaker/latest/dg/autopilot-automate-model-development.html"
   ]
  },
  {
   "cell_type": "markdown",
   "id": "3cd789c0",
   "metadata": {},
   "source": [
    "# ~~ SageMaker JumpStart ~~\n",
    "\n",
    "https://docs.aws.amazon.com/sagemaker/latest/dg/studio-jumpstart.html\n",
    "\n",
    "https://docs.aws.amazon.com/sagemaker/latest/dg/jumpstart-foundation-models.html"
   ]
  },
  {
   "cell_type": "markdown",
   "id": "2f9e7b99",
   "metadata": {},
   "source": []
  }
 ],
 "metadata": {
  "language_info": {
   "name": "python"
  }
 },
 "nbformat": 4,
 "nbformat_minor": 5
}
