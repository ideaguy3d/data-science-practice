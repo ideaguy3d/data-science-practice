{
 "cells": [
  {
   "cell_type": "code",
   "execution_count": null,
   "id": "55edf582",
   "metadata": {},
   "outputs": [],
   "source": []
  },
  {
   "cell_type": "markdown",
   "id": "1ea66ef2",
   "metadata": {},
   "source": [
    "oh yeah and I want to know the root/base word of the various verbs/nouns/adjectives/adverbs/etc. like I know a verb can kind of morph into a nouns/adjectives/adverbs/etc. and or vice versa. I have noticed this a lot for example:\n",
    "- rapido / rapidamente \n",
    "- comunicación / comunicarse \n",
    "- rastrear / rastreador \n",
    "I think this is called morphological analysis. I've noticed many words that can morph into many parts of speech I just can't remember them all at the moment. \n",
    "I also know there are many patterns that can usually be followed but I haven't quite nailed them all down yet. e.g. \n",
    "- ador is like \"-er\"\n",
    "- amente is like \"-ly\"\n",
    "- ado is like ???\n",
    "- ario is like ???\n",
    "I have spent over 400 hours studying Spanish these past 2.5 years so I know the core patterns of verbs and a few others but I am noticing handful of other patterns that are usually, no always, followed when morphing root/base words into other parts of speech. \n",
    "\n",
    "Another metric I want is how similar the Spanish word is its' English e.g. \n",
    "- fish / pescado = super different\n",
    "- chemistry / química = middle ish, spelled differently but somewhat similar pronunciation\n",
    "- doctor / doctor = super similar (just pronounced differently)\n",
    "Can you figure out a way to quantify a similarity score via a prompt between the English/Spanish words? "
   ]
  }
 ],
 "metadata": {
  "language_info": {
   "name": "python"
  }
 },
 "nbformat": 4,
 "nbformat_minor": 5
}
