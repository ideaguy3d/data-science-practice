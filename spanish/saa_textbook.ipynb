{
 "cells": [
  {
   "cell_type": "markdown",
   "id": "698d2c0c",
   "metadata": {},
   "source": [
    "# Spread Abroad Academy"
   ]
  },
  {
   "cell_type": "markdown",
   "id": "75d48bfc",
   "metadata": {},
   "source": [
    "# Chp5 Prepositions, conjunctions & indefinite articles \n",
    "\n",
    "- 5.1 prepositions \n",
    "- 5.2 coordinating conjunctions \n",
    "- 5.3 subordinating conjunctions \n",
    "- 5.4 indefinite articles "
   ]
  },
  {
   "cell_type": "code",
   "execution_count": null,
   "id": "f76b3e18",
   "metadata": {},
   "outputs": [],
   "source": [
    "# 5.1 practice\n",
    " \n",
    "# en, de, con\n",
    "oraciones = \"\"\" \n",
    "\n",
    "\n",
    "\n",
    "\"\"\"\n",
    "\n",
    "# didn't work through sentence practice for chp.5 "
   ]
  },
  {
   "cell_type": "markdown",
   "id": "2fccbf1a",
   "metadata": {},
   "source": [
    "# Chp6"
   ]
  }
 ],
 "metadata": {
  "language_info": {
   "name": "python"
  }
 },
 "nbformat": 4,
 "nbformat_minor": 5
}
