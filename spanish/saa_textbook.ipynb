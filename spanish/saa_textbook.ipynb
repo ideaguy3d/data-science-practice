{
 "cells": [
  {
   "cell_type": "markdown",
   "id": "698d2c0c",
   "metadata": {},
   "source": [
    "# Spread Abroad Academy"
   ]
  },
  {
   "cell_type": "markdown",
   "id": "75d48bfc",
   "metadata": {},
   "source": [
    "# Chp 5: Prepositions, conjunctions & indefinite articles \n",
    "\n",
    "- 5.1 prepositions \n",
    "- 5.2 coordinating conjunctions \n",
    "- 5.3 subordinating conjunctions \n",
    "- 5.4 indefinite articles "
   ]
  },
  {
   "cell_type": "code",
   "execution_count": null,
   "id": "f76b3e18",
   "metadata": {},
   "outputs": [],
   "source": [
    "# 5.1 practice\n",
    " \n",
    "# en, de, con\n",
    "oraciones = \"\"\" \n",
    "\n",
    "\n",
    "\n",
    "\"\"\"\n",
    "\n",
    "# didn't work through sentence practice for chp.5 "
   ]
  },
  {
   "cell_type": "markdown",
   "id": "2fccbf1a",
   "metadata": {},
   "source": [
    "# Chp 6: Possessive Adjectives "
   ]
  },
  {
   "cell_type": "markdown",
   "id": "c601c1d2",
   "metadata": {},
   "source": [
    "# Chp 7: The indicative mood - Reflexive verbs + ir \n",
    "\n",
    "- 7.1 Reflexive Verbs\n",
    "- 7.2 Ver ir and ir + a\n"
   ]
  },
  {
   "cell_type": "markdown",
   "id": "326c947d",
   "metadata": {},
   "source": [
    "# Chp 8: Comparisons \n",
    "\n",
    "- 8.1 Comparing Adjectives \n",
    "- 8.2 Irregular Comparatives \n",
    "- 8.3 Comparing Equal Adjectives \n",
    "- 8.4 Comparing Nouns \n"
   ]
  },
  {
   "cell_type": "markdown",
   "id": "67148fca",
   "metadata": {},
   "source": [
    "# Chp 9: How to ask questions\n",
    "\n",
    "- 9.1 Interrogative Pronouns \n",
    "- 9.2 The verb Venir \n"
   ]
  },
  {
   "cell_type": "markdown",
   "id": "31a83e68",
   "metadata": {},
   "source": [
    "# Chp 10: Using adverbs to describe our actions \n",
    "\n",
    "- 10.1 Adverbs of Quantity \n",
    "- 10.2 Adverbs of Denial \n",
    "- 10.3 Adverbs of Time \n",
    "- 10.4 Adverbs of Affirmation \n",
    "- 10.5 Adverbs of Manner "
   ]
  },
  {
   "cell_type": "markdown",
   "id": "89166fcd",
   "metadata": {},
   "source": [
    "# Chp 11: The indicative mood - present tense of irregular verbs\n",
    "\n",
    "- 11.1 Expressing Actions: preferir, querer, poder "
   ]
  },
  {
   "cell_type": "markdown",
   "id": "6de88270",
   "metadata": {},
   "source": []
  }
 ],
 "metadata": {
  "language_info": {
   "name": "python"
  }
 },
 "nbformat": 4,
 "nbformat_minor": 5
}
