{
 "cells": [
  {
   "cell_type": "markdown",
   "id": "d6601d34",
   "metadata": {},
   "source": [
    "# imports"
   ]
  },
  {
   "cell_type": "code",
   "execution_count": null,
   "id": "ad1a1a22",
   "metadata": {},
   "outputs": [],
   "source": [
    "\"\"\"\n",
    "crear\n",
    "quedar\n",
    "occurir\n",
    "\"\"\"\n",
    "\n",
    "from enum import Enum\n",
    "# import streamlit as st\n",
    "# import json\n",
    "import ipywidgets as widgets\n",
    "from IPython.display import display, clear_output"
   ]
  },
  {
   "cell_type": "code",
   "execution_count": null,
   "id": "d419aa62",
   "metadata": {},
   "outputs": [],
   "source": [
    "# type of conjugation and tense\n",
    "class T(Enum):\n",
    "    CI = 'Indicative Conjugations'\n",
    "    CS = 'Subjunctive Conjugations'\n",
    "    PRESENT = 'present'\n",
    "    PRETERITE = 'preterite'\n",
    "    IMPERFECT = 'imperfect'\n",
    "    CONDITIONAL = 'conditional'\n",
    "    FUTURE = 'future'\n",
    "    PARTICIPLES = 'participles'\n",
    "\n",
    "\"\"\" \n",
    "// to copy & paste\n",
    "T.CI: {\n",
    "    T.PARTICIPLES: '',\n",
    "    T.PRESENT: '',\n",
    "    T.PRETERITE: '',\n",
    "    T.IMPERFECT: '',\n",
    "    T.CONDITIONAL: '',\n",
    "    T.FUTURE: '',\n",
    "}\n",
    "\"\"\"\n",
    "# yo, usted, nosotros, ellos\n",
    "verbs = { \n",
    "    'crear': {\n",
    "        T.CI: {\n",
    "            T.PARTICIPLES: 'creando, creado',\n",
    "            T.PRESENT: 'creo, crea, creamos, crean',\n",
    "            T.PRETERITE: 'creé, creó, creamos, crearon',\n",
    "            T.IMPERFECT: 'creaba, creaba, creábamos, creaban',\n",
    "            T.CONDITIONAL: 'crearía, crearía, crearíamos, crearían',\n",
    "            T.FUTURE: 'crearé, creará, crearemos, crearán',\n",
    "            \n",
    "        }\n",
    "    },\n",
    "    'quedar': {\n",
    "        T.CI: {\n",
    "            T.PARTICIPLES: 'quedando, quedado',\n",
    "            T.PRESENT: 'quedo, queda, quedamos, quedan',\n",
    "            T.PRETERITE: 'quedé, quedó, quedamos, quedaron',\n",
    "            T.IMPERFECT: 'quedaba, quedaba, quedábamos, quedaban',\n",
    "            T.CONDITIONAL: 'quedaría, quedaría, quedaríamos, quedarían',\n",
    "            T.FUTURE: 'quedaré, quedará, quedaremos, quedarán',\n",
    "        }\n",
    "    }\n",
    "}\n"
   ]
  },
  {
   "cell_type": "code",
   "execution_count": null,
   "id": "a298f0cf",
   "metadata": {},
   "outputs": [],
   "source": []
  },
  {
   "cell_type": "code",
   "execution_count": null,
   "id": "4cfc70ce",
   "metadata": {},
   "outputs": [],
   "source": [
    "# Define the tense keys as an enum\n",
    "# class T(Enum):\n",
    "#     CI = 'Indicative Conjugations'\n",
    "#     CS = 'Subjunctive Conjugations'\n",
    "#     PRESENT = 'present'\n",
    "#     PRETERITE = 'preterite'\n",
    "#     IMPERFECT = 'imperfect'\n",
    "#     CONDITIONAL = 'conditional'\n",
    "#     FUTURE = 'future'\n",
    "#     PARTICIPLES = 'participles'\n",
    "\n",
    "# List of tenses to prompt for\n",
    "tenses = [T.PARTICIPLES, T.PRESENT, T.PRETERITE, T.IMPERFECT, T.CONDITIONAL, T.FUTURE]\n",
    "\n",
    "# Master dictionary to store all verbs\n",
    "# verbs = {}\n",
    "\n",
    "# Start the manual entry loop\n",
    "while True:\n",
    "    infinitive = input(\"Infinitive (or type 'done' to finish): \").strip()\n",
    "    if infinitive.lower() == 'done':\n",
    "        break\n",
    "\n",
    "    ci_block = {}\n",
    "    for tense in tenses:\n",
    "        form = input(f\"{tense.value} (comma-separated): \").strip()\n",
    "        ci_block[tense] = form\n",
    "\n",
    "    verbs[infinitive] = {T.CI: ci_block}\n",
    "    print(f\"✅ Added '{infinitive}'\\n\")\n",
    "\n",
    "# Print full output for copy/paste if needed\n",
    "print(\"📦 Final Output:\")\n",
    "for infinitive, data in verbs.items():\n",
    "    print(f\"    '{infinitive}': {{\")\n",
    "    print(f\"        T.CI: {{\")\n",
    "    for tense, value in data[T.CI].items():\n",
    "        print(f\"            T.{tense.name}: '{value}',\")\n",
    "    print(f\"        }}\\n    }},\")\n"
   ]
  },
  {
   "cell_type": "code",
   "execution_count": null,
   "id": "6f9595b0",
   "metadata": {},
   "outputs": [],
   "source": [
    "verbs"
   ]
  },
  {
   "cell_type": "markdown",
   "id": "37cf57db",
   "metadata": {},
   "source": [
    "# widget"
   ]
  },
  {
   "cell_type": "code",
   "execution_count": null,
   "id": "1cb525b2",
   "metadata": {},
   "outputs": [],
   "source": []
  },
  {
   "cell_type": "code",
   "execution_count": null,
   "id": "74d34b9f",
   "metadata": {},
   "outputs": [],
   "source": []
  },
  {
   "cell_type": "code",
   "execution_count": null,
   "id": "33db9b4f",
   "metadata": {},
   "outputs": [],
   "source": []
  }
 ],
 "metadata": {
  "kernelspec": {
   "display_name": "Python 3",
   "language": "python",
   "name": "python3"
  },
  "language_info": {
   "codemirror_mode": {
    "name": "ipython",
    "version": 3
   },
   "file_extension": ".py",
   "mimetype": "text/x-python",
   "name": "python",
   "nbconvert_exporter": "python",
   "pygments_lexer": "ipython3",
   "version": "3.10.17"
  }
 },
 "nbformat": 4,
 "nbformat_minor": 5
}
