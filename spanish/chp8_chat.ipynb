{
 "cells": [
  {
   "cell_type": "markdown",
   "id": "0e03f205",
   "metadata": {},
   "source": [
    "# Chp 8: Comparisons "
   ]
  },
  {
   "cell_type": "code",
   "execution_count": null,
   "id": "0f97fea2",
   "metadata": {},
   "outputs": [],
   "source": [
    "from pathlib import Path\n",
    "from textwrap import fill\n",
    "from IPython.display import Markdown\n",
    "from sklearn.model_selection import train_test_split\n",
    "from tqdm.auto import tqdm\n",
    "\n",
    "import numpy as np\n",
    "import pandas as pd\n",
    "import requests\n",
    "import seaborn as sns\n",
    "import tiktoken"
   ]
  },
  {
   "cell_type": "code",
   "execution_count": null,
   "id": "88637b5e",
   "metadata": {},
   "outputs": [],
   "source": [
    "LLM_SERVER = \"http://localhost:11434\"\n",
    "MODEL = \"gemma3:1b\"\n",
    "DATA_DIR = \"data\""
   ]
  },
  {
   "cell_type": "code",
   "execution_count": null,
   "id": "9212f19f",
   "metadata": {},
   "outputs": [],
   "source": [
    "prompt = ''' \n",
    "Here is your output to me:\n",
    "`\n",
    "Okay, let's tackle those words – “cuerpo,” “mente,” “sana,” and “fieles.” They’re all important Spanish words with distinct\n",
    "meanings, but they share some connections.\n",
    "\n",
    "**1. Cuerpo**\n",
    "\n",
    "*   **Meaning:** “Cuerpo” means “body.” It refers to the physical form of a person or animal.\n",
    "*   **Usage:** It’s used to talk about a person’s physical attributes, health, or state of being.\n",
    "*   **Example:** \"El cuerpo del paciente está muy débil.\" (The patient’s body is very weak.)\n",
    "\n",
    "**2. Mente**\n",
    "\n",
    "*   **Meaning:** “Mente” means “mind,” “intellect,” or “brain.” It refers to the mental faculties – thoughts, reason, and\n",
    "understanding.\n",
    "*   **Usage:** It’s used to describe a person’s thinking process, intelligence, or personality.\n",
    "*   **Example:** \"La mente del niño es curiosa.\" (The child’s mind is curious.)\n",
    "\n",
    "**3. Sana**\n",
    "\n",
    "*   **Meaning:** “Sana” means “healthy,” “well,” or “sound.” It's a very common and vital word.\n",
    "*   **Usage:** It’s used to describe someone’s physical health, well-being, or condition. It’s often used in terms of “estar sano”\n",
    "(to be healthy).\n",
    "*   **Example:** \"Ella está sana y feliz.\" (She’s healthy and happy.)\n",
    "\n",
    "**4. Fieles**\n",
    "\n",
    "*   **Meaning:** “Fieles” means “faithful,” “loyal,” “devoted,” or “true.” It indicates a person’s commitment or adherence to\n",
    "something.\n",
    "*   **Usage:** It's used to describe someone’s devotion, faithfulness, or unwavering loyalty.\n",
    "*   **Example:** “El labrador es un perro fiel.” (The Labrador is a loyal dog.)\n",
    "`\n",
    "\n",
    "How can I get your output to come out nicely formatted in a jupyter notebook? \n",
    "Would I use \"from IPython.display import Markdown\"?\n",
    "'''"
   ]
  },
  {
   "cell_type": "code",
   "execution_count": null,
   "id": "d77537b6",
   "metadata": {},
   "outputs": [],
   "source": []
  },
  {
   "cell_type": "code",
   "execution_count": null,
   "id": "5f1e30ca",
   "metadata": {},
   "outputs": [],
   "source": []
  }
 ],
 "metadata": {
  "kernelspec": {
   "display_name": "Python 3",
   "language": "python",
   "name": "python3"
  },
  "language_info": {
   "codemirror_mode": {
    "name": "ipython",
    "version": 3
   },
   "file_extension": ".py",
   "mimetype": "text/x-python",
   "name": "python",
   "nbconvert_exporter": "python",
   "pygments_lexer": "ipython3",
   "version": "3.12.8"
  }
 },
 "nbformat": 4,
 "nbformat_minor": 5
}
