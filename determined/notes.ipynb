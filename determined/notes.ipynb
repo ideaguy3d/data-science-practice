{
 "cells": [
  {
   "cell_type": "markdown",
   "id": "d68c1502",
   "metadata": {},
   "source": [
    "# Notes\n",
    "\n",
    "## Chp 14\n",
    "\n",
    "Key ideas\n",
    "- “defending broken people who were usually already lost by the time they were second-trimester fetuses.”\n",
    "- “One possibility is the “truth and reconciliation commission” model”\n",
    "- incompatibilist philosopher Derk Pereboom (Cornell University) criminology:\n",
    " - (A) Some people are dangerous because of problems with the likes of impulse control, propensity for violence, or incapacity for empathy. \n",
    " - (B) If you truly accept that there is no free will, it’s not their fault—it’s the result of their genes, fetal life, hormone levels, the usual. \n",
    " - (C) Nonetheless, the public needs to be protected from them until they can be rehabilitated, if possible, justifying the constraint of their freedom. \n",
    " - (D) But their “quarantine” should be done in a way that constrains the least—do what’s needed to make them safe, and in all other ways, they’re free to be.\n",
    "- Philosopher Gregg Caruso of the State University of New York\n",
    " - **“while a criminal can be dangerous, the poverty, bias, systemic disadvantaging, and so on that produce criminals are more dangerous.”**\n",
    " - “least infringement” has to be coupled with a paramount focus on the social determinants of criminality”\n",
    "  - e.g. “Sure, spot the guy whose costly and growing addiction to a street drug is about to lead him to mug people, get him into rehab to writhe and shiver and puke in a safe setting, but also do something about how he was taught no skills and has no job options.”\n",
    "- “terrible people are produced by terrible circumstances” ~ Dr. Sapolsky \n",
    "- “Law professor Susan Bandes of DePaul University finds that for many, the execution and the accompanying media coverage are retraumatizing, impeding their recovery. {A small number oppose the execution}”\n",
    "\n",
    "\n",
    "\n",
    "\n",
    "\n",
    "\n",
    "\n",
    "\n",
    "\n",
    "\n",
    "\n",
    "\n",
    "Excerpts From\n",
    "Determined\n",
    "Robert M. Sapolsky\n",
    "https://books.apple.com/us/book/determined/id6445464282\n",
    "This material may be protected by copyright.\n",
    "\n",
    "\n",
    "//"
   ]
  },
  {
   "cell_type": "code",
   "execution_count": 3,
   "id": "b0dcc93f",
   "metadata": {},
   "outputs": [],
   "source": [
    "import numpy as np "
   ]
  },
  {
   "cell_type": "code",
   "execution_count": null,
   "id": "4e3f939d",
   "metadata": {},
   "outputs": [
    {
     "data": {
      "text/plain": [
       "np.float64(5.3)"
      ]
     },
     "execution_count": 5,
     "metadata": {},
     "output_type": "execute_result"
    }
   ],
   "source": [
    "reading_time=[6, 5, 4.5, 6.5, 4.5, 5, 4, 3.9, 4.5]\n",
    "np.average(reading_time)"
   ]
  },
  {
   "cell_type": "code",
   "execution_count": 6,
   "id": "b997fc9c",
   "metadata": {},
   "outputs": [
    {
     "data": {
      "text/plain": [
       "74.2"
      ]
     },
     "execution_count": 6,
     "metadata": {},
     "output_type": "execute_result"
    }
   ],
   "source": [
    "14*5.3"
   ]
  },
  {
   "cell_type": "code",
   "execution_count": null,
   "id": "6b589f57",
   "metadata": {},
   "outputs": [],
   "source": []
  }
 ],
 "metadata": {
  "kernelspec": {
   "display_name": "Python 3",
   "language": "python",
   "name": "python3"
  },
  "language_info": {
   "codemirror_mode": {
    "name": "ipython",
    "version": 3
   },
   "file_extension": ".py",
   "mimetype": "text/x-python",
   "name": "python",
   "nbconvert_exporter": "python",
   "pygments_lexer": "ipython3",
   "version": "3.12.8"
  }
 },
 "nbformat": 4,
 "nbformat_minor": 5
}
